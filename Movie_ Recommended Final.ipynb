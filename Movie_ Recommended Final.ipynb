{
 "cells": [
  {
   "cell_type": "markdown",
   "id": "e74fd184",
   "metadata": {},
   "source": [
    "<center><font color='Black' style='font-family:verdana; font-size:25px'>Movie Recommendation System</font></center>\n",
    "<hr style=\"color: black; height: 1px;\">\n",
    "\n",
    "<b><font color='#067F7D' style='font-family:cambria; font-size:20px'>Problem Statement</font></b><br>\n",
    "\n",
    "<font color=\"black\" style=\"font-family:Cambria; font-size:16px\">The goal is to predict the success of a movie before its release by leveraging various features such as plot, cast, crew, budget, and revenues. The key questions to address include:</font>\n",
    "<br>\n",
    "\n",
    "<ul>\n",
    "    <li><font color=\"black\" style=\"font-family:Cambria; font-size:16px\">Can we identify the factors that contribute to the success or failure of a movie?</font></li>\n",
    "    <li><font color=\"black\" style=\"font-family:Cambria; font-size:16px\">Can we predict which films will be highly rated?</font></li>\n",
    "</ul>\n",
    "\n",
    "<hr>\n",
    "\n",
    "<b><font color='#067F7D' style='font-family:cambria; font-size:20px'>Overview</font></b><br>\n",
    "\n",
    "<font color=\"black\" style=\"font-family:Cambria; font-size:16px\">This project uses a dataset containing information on several thousand films, including their plot, cast, crew, budget, and revenues. Due to a DMCA takedown request from IMDb, the original dataset was replaced with a similar set of films and data fields from The Movie Database (TMDb). The dataset includes various columns such as genres, keywords, cast, crew, production companies, and vote average.</font>\n",
    "<br>\n",
    "\n",
    "<font color=\"#067F7D\" style=\"font-family:Cambria; font-size:16px\"><b>Dataset Summary</b></font>\n",
    "<br>\n",
    "\n",
    "<font color=\"black\" style=\"font-family:Cambria; font-size:16px\">`Source` : The Movie Database (TMDb)</font>\n",
    "<br>\n",
    "<font color=\"black\" style=\"font-family:Cambria; font-size:16px\">`Key Features`: Plot, cast, crew, budget, revenues, genres, keywords, production companies, original language, and vote average.</font>\n",
    "\n",
    "<hr>\n",
    "\n",
    "<b><font color='#067F7D' style='font-family:cambria; font-size:20px'>Model Architecture</font></b><br>\n",
    "\n",
    "<font color=\"black\" style=\"font-family:Cambria; font-size:16px\"><b>Data Preprocessing</b></font>\n",
    "<br>\n",
    "   - <font color=\"black\" style=\"font-family:Cambria; font-size:16px\">`Merging Datasets`: Merged the movies and credits datasets on the title.</font>\n",
    "   - <font color=\"black\" style=\"font-family:Cambria; font-size:16px\">`Feature Selection`: Selected relevant columns such as movie_id, title, overview, genres, keywords, cast, crew, production companies, and vote average.</font></li>\n",
    "   - <font color=\"black\" style=\"font-family:Cambria; font-size:16px\">`Handling Missing Values`: Dropped rows with missing values.</font>\n",
    "   - <font color=\"black\" style=\"font-family:Cambria; font-size:16px\">`Stemming`: Applied stemming to reduce words to their root form.</font>\n",
    "<\n",
    "\n",
    "<font color=\"black\" style=\"font-family:Cambria; font-size:16px\"><b>Model</b></font><br>\n",
    "<ul>\n",
    "    <li><font color=\"black\" style=\"font-family:Cambria; font-size:16px\">Vectorization: TF-IDF Vectorizer with a custom stemming tokenizer.</font></li>\n",
    "    <li><font color=\"black\" style=\"font-family:Cambria; font-size:16px\">Similarity Measurement: Cosine similarity to find the closest matches to a given movie.</font></li>\n",
    "</ul>\n",
    "\n",
    "<font color=\"black\" style=\"font-family:Cambria; font-size:16px\"><b>Functions</b></font><br>\n",
    "<ul>\n",
    "    <li><font color=\"black\" style=\"font-family:Cambria; font-size:16px\">Data Conversion Functions: Convert JSON fields to lists of relevant values (e.g., genres, cast).</font></li>\n",
    "    <li><font color=\"black\" style=\"font-family:Cambria; font-size:16px\">Stemming Function: Custom tokenizer function using PorterStemmer.</font></li>\n",
    "    <li><font color=\"black\" style=\"font-family:Cambria; font-size:16px\">Recommendation Function: Recommends movies based on cosine similarity scores.</font></li>\n",
    "</ul>\n",
    "\n",
    "<hr>\n",
    "\n",
    "<b><font color='#067F7D' style='font-family:cambria; font-size:20px'>Expected Outcome</font></b><br>\n",
    "\n",
    "<font color=\"black\" style=\"font-family:Cambria; font-size:16px\">The expected outcome is a recommendation system that suggests movies similar to a given movie based on the plot, cast, crew, and other features. Users should be able to input a movie title and receive a list of recommended movies that are similar in terms of content and characteristics.</font>\n",
    "\n",
    "<hr>\n",
    "\n",
    "<b><font color='#067F7D' style='font-family:cambria; font-size:20px'>Model Training and Evaluation</font></b><br>\n",
    "\n",
    "<font color=\"black\" style=\"font-family:Cambria; font-size:16px\"><b>Training</b></font><br>\n",
    "   - <font color=\"black\" style=\"font-family:Cambria; font-size:16px\">`Text Processing`: Applied stemming and TF-IDF vectorization to convert text data into vectors.</font></li>\n",
    "   - <font color=\"black\" style=\"font-family:Cambria; font-size:16px\">`Similarity Calculation`: Computed `cosine similarity` between all movie vectors.</font>\n",
    "\n",
    "<font color=\"black\" style=\"font-family:Cambria; font-size:16px\"><b>Evaluation</b></font><br>\n",
    "<ul>\n",
    "    <li><font color=\"black\" style=\"font-family:Cambria; font-size:16px\">Assess model performance using metrics like accuracy, precision, recall, and F1-score on training and test datasets.</font></li>\n",
    "    <li><font color=\"black\" style=\"font-family:Cambria; font-size:16px\">Fine-tuning model parameters to optimize performance.</font></li>\n",
    "</ul>\n",
    "\n",
    "<hr>\n"
   ]
  },
  {
   "cell_type": "code",
   "execution_count": 1,
   "id": "e19f1cb4",
   "metadata": {},
   "outputs": [],
   "source": [
    "import pandas as pd\n",
    "import numpy as np\n",
    "import warnings\n",
    "warnings.filterwarnings('ignore')"
   ]
  },
  {
   "cell_type": "code",
   "execution_count": 2,
   "id": "c9d2bb24",
   "metadata": {},
   "outputs": [],
   "source": [
    "movies=pd.read_csv('tmdb_5000_movies.csv')\n",
    "credits=pd.read_csv('tmdb_5000_credits.csv')"
   ]
  },
  {
   "cell_type": "code",
   "execution_count": 3,
   "id": "705a6e92",
   "metadata": {},
   "outputs": [
    {
     "data": {
      "text/html": [
       "<div>\n",
       "<style scoped>\n",
       "    .dataframe tbody tr th:only-of-type {\n",
       "        vertical-align: middle;\n",
       "    }\n",
       "\n",
       "    .dataframe tbody tr th {\n",
       "        vertical-align: top;\n",
       "    }\n",
       "\n",
       "    .dataframe thead th {\n",
       "        text-align: right;\n",
       "    }\n",
       "</style>\n",
       "<table border=\"1\" class=\"dataframe\">\n",
       "  <thead>\n",
       "    <tr style=\"text-align: right;\">\n",
       "      <th></th>\n",
       "      <th>budget</th>\n",
       "      <th>genres</th>\n",
       "      <th>homepage</th>\n",
       "      <th>id</th>\n",
       "      <th>keywords</th>\n",
       "      <th>original_language</th>\n",
       "      <th>original_title</th>\n",
       "      <th>overview</th>\n",
       "      <th>popularity</th>\n",
       "      <th>production_companies</th>\n",
       "      <th>production_countries</th>\n",
       "      <th>release_date</th>\n",
       "      <th>revenue</th>\n",
       "      <th>runtime</th>\n",
       "      <th>spoken_languages</th>\n",
       "      <th>status</th>\n",
       "      <th>tagline</th>\n",
       "      <th>title</th>\n",
       "      <th>vote_average</th>\n",
       "      <th>vote_count</th>\n",
       "    </tr>\n",
       "  </thead>\n",
       "  <tbody>\n",
       "    <tr>\n",
       "      <th>0</th>\n",
       "      <td>237000000</td>\n",
       "      <td>[{\"id\": 28, \"name\": \"Action\"}, {\"id\": 12, \"nam...</td>\n",
       "      <td>http://www.avatarmovie.com/</td>\n",
       "      <td>19995</td>\n",
       "      <td>[{\"id\": 1463, \"name\": \"culture clash\"}, {\"id\":...</td>\n",
       "      <td>en</td>\n",
       "      <td>Avatar</td>\n",
       "      <td>In the 22nd century, a paraplegic Marine is di...</td>\n",
       "      <td>150.437577</td>\n",
       "      <td>[{\"name\": \"Ingenious Film Partners\", \"id\": 289...</td>\n",
       "      <td>[{\"iso_3166_1\": \"US\", \"name\": \"United States o...</td>\n",
       "      <td>2009-12-10</td>\n",
       "      <td>2787965087</td>\n",
       "      <td>162.0</td>\n",
       "      <td>[{\"iso_639_1\": \"en\", \"name\": \"English\"}, {\"iso...</td>\n",
       "      <td>Released</td>\n",
       "      <td>Enter the World of Pandora.</td>\n",
       "      <td>Avatar</td>\n",
       "      <td>7.2</td>\n",
       "      <td>11800</td>\n",
       "    </tr>\n",
       "  </tbody>\n",
       "</table>\n",
       "</div>"
      ],
      "text/plain": [
       "      budget                                             genres  \\\n",
       "0  237000000  [{\"id\": 28, \"name\": \"Action\"}, {\"id\": 12, \"nam...   \n",
       "\n",
       "                      homepage     id  \\\n",
       "0  http://www.avatarmovie.com/  19995   \n",
       "\n",
       "                                            keywords original_language  \\\n",
       "0  [{\"id\": 1463, \"name\": \"culture clash\"}, {\"id\":...                en   \n",
       "\n",
       "  original_title                                           overview  \\\n",
       "0         Avatar  In the 22nd century, a paraplegic Marine is di...   \n",
       "\n",
       "   popularity                               production_companies  \\\n",
       "0  150.437577  [{\"name\": \"Ingenious Film Partners\", \"id\": 289...   \n",
       "\n",
       "                                production_countries release_date     revenue  \\\n",
       "0  [{\"iso_3166_1\": \"US\", \"name\": \"United States o...   2009-12-10  2787965087   \n",
       "\n",
       "   runtime                                   spoken_languages    status  \\\n",
       "0    162.0  [{\"iso_639_1\": \"en\", \"name\": \"English\"}, {\"iso...  Released   \n",
       "\n",
       "                       tagline   title  vote_average  vote_count  \n",
       "0  Enter the World of Pandora.  Avatar           7.2       11800  "
      ]
     },
     "execution_count": 3,
     "metadata": {},
     "output_type": "execute_result"
    }
   ],
   "source": [
    "movies.head(1)"
   ]
  },
  {
   "cell_type": "code",
   "execution_count": 4,
   "id": "295e8428",
   "metadata": {},
   "outputs": [
    {
     "data": {
      "text/html": [
       "<div>\n",
       "<style scoped>\n",
       "    .dataframe tbody tr th:only-of-type {\n",
       "        vertical-align: middle;\n",
       "    }\n",
       "\n",
       "    .dataframe tbody tr th {\n",
       "        vertical-align: top;\n",
       "    }\n",
       "\n",
       "    .dataframe thead th {\n",
       "        text-align: right;\n",
       "    }\n",
       "</style>\n",
       "<table border=\"1\" class=\"dataframe\">\n",
       "  <thead>\n",
       "    <tr style=\"text-align: right;\">\n",
       "      <th></th>\n",
       "      <th>movie_id</th>\n",
       "      <th>title</th>\n",
       "      <th>cast</th>\n",
       "      <th>crew</th>\n",
       "    </tr>\n",
       "  </thead>\n",
       "  <tbody>\n",
       "    <tr>\n",
       "      <th>0</th>\n",
       "      <td>19995</td>\n",
       "      <td>Avatar</td>\n",
       "      <td>[{\"cast_id\": 242, \"character\": \"Jake Sully\", \"...</td>\n",
       "      <td>[{\"credit_id\": \"52fe48009251416c750aca23\", \"de...</td>\n",
       "    </tr>\n",
       "  </tbody>\n",
       "</table>\n",
       "</div>"
      ],
      "text/plain": [
       "   movie_id   title                                               cast  \\\n",
       "0     19995  Avatar  [{\"cast_id\": 242, \"character\": \"Jake Sully\", \"...   \n",
       "\n",
       "                                                crew  \n",
       "0  [{\"credit_id\": \"52fe48009251416c750aca23\", \"de...  "
      ]
     },
     "execution_count": 4,
     "metadata": {},
     "output_type": "execute_result"
    }
   ],
   "source": [
    "credits.head(1)"
   ]
  },
  {
   "cell_type": "code",
   "execution_count": 5,
   "id": "98081d45",
   "metadata": {},
   "outputs": [
    {
     "name": "stdout",
     "output_type": "stream",
     "text": [
      "The shape of the movies data set is (4803, 20)\n",
      "The shape of the Credits data set is (4803, 4)\n"
     ]
    }
   ],
   "source": [
    "print(f'The shape of the movies data set is {movies.shape}')\n",
    "print(f'The shape of the Credits data set is {credits.shape}')"
   ]
  },
  {
   "cell_type": "code",
   "execution_count": 6,
   "id": "b18af71a",
   "metadata": {},
   "outputs": [],
   "source": [
    "# merging the data on the bases of title\n",
    "movies=movies.merge(credits,on='title')"
   ]
  },
  {
   "cell_type": "code",
   "execution_count": 7,
   "id": "623695d3",
   "metadata": {},
   "outputs": [
    {
     "name": "stdout",
     "output_type": "stream",
     "text": [
      "The shape of the movies data set is (4809, 23)\n"
     ]
    }
   ],
   "source": [
    "print(f'The shape of the movies data set is {movies.shape}')"
   ]
  },
  {
   "cell_type": "code",
   "execution_count": 8,
   "id": "dcf96dbb",
   "metadata": {},
   "outputs": [
    {
     "data": {
      "text/html": [
       "<div>\n",
       "<style scoped>\n",
       "    .dataframe tbody tr th:only-of-type {\n",
       "        vertical-align: middle;\n",
       "    }\n",
       "\n",
       "    .dataframe tbody tr th {\n",
       "        vertical-align: top;\n",
       "    }\n",
       "\n",
       "    .dataframe thead th {\n",
       "        text-align: right;\n",
       "    }\n",
       "</style>\n",
       "<table border=\"1\" class=\"dataframe\">\n",
       "  <thead>\n",
       "    <tr style=\"text-align: right;\">\n",
       "      <th></th>\n",
       "      <th>budget</th>\n",
       "      <th>genres</th>\n",
       "      <th>homepage</th>\n",
       "      <th>id</th>\n",
       "      <th>keywords</th>\n",
       "      <th>original_language</th>\n",
       "      <th>original_title</th>\n",
       "      <th>overview</th>\n",
       "      <th>popularity</th>\n",
       "      <th>production_companies</th>\n",
       "      <th>...</th>\n",
       "      <th>runtime</th>\n",
       "      <th>spoken_languages</th>\n",
       "      <th>status</th>\n",
       "      <th>tagline</th>\n",
       "      <th>title</th>\n",
       "      <th>vote_average</th>\n",
       "      <th>vote_count</th>\n",
       "      <th>movie_id</th>\n",
       "      <th>cast</th>\n",
       "      <th>crew</th>\n",
       "    </tr>\n",
       "  </thead>\n",
       "  <tbody>\n",
       "    <tr>\n",
       "      <th>0</th>\n",
       "      <td>237000000</td>\n",
       "      <td>[{\"id\": 28, \"name\": \"Action\"}, {\"id\": 12, \"nam...</td>\n",
       "      <td>http://www.avatarmovie.com/</td>\n",
       "      <td>19995</td>\n",
       "      <td>[{\"id\": 1463, \"name\": \"culture clash\"}, {\"id\":...</td>\n",
       "      <td>en</td>\n",
       "      <td>Avatar</td>\n",
       "      <td>In the 22nd century, a paraplegic Marine is di...</td>\n",
       "      <td>150.437577</td>\n",
       "      <td>[{\"name\": \"Ingenious Film Partners\", \"id\": 289...</td>\n",
       "      <td>...</td>\n",
       "      <td>162.0</td>\n",
       "      <td>[{\"iso_639_1\": \"en\", \"name\": \"English\"}, {\"iso...</td>\n",
       "      <td>Released</td>\n",
       "      <td>Enter the World of Pandora.</td>\n",
       "      <td>Avatar</td>\n",
       "      <td>7.2</td>\n",
       "      <td>11800</td>\n",
       "      <td>19995</td>\n",
       "      <td>[{\"cast_id\": 242, \"character\": \"Jake Sully\", \"...</td>\n",
       "      <td>[{\"credit_id\": \"52fe48009251416c750aca23\", \"de...</td>\n",
       "    </tr>\n",
       "  </tbody>\n",
       "</table>\n",
       "<p>1 rows × 23 columns</p>\n",
       "</div>"
      ],
      "text/plain": [
       "      budget                                             genres  \\\n",
       "0  237000000  [{\"id\": 28, \"name\": \"Action\"}, {\"id\": 12, \"nam...   \n",
       "\n",
       "                      homepage     id  \\\n",
       "0  http://www.avatarmovie.com/  19995   \n",
       "\n",
       "                                            keywords original_language  \\\n",
       "0  [{\"id\": 1463, \"name\": \"culture clash\"}, {\"id\":...                en   \n",
       "\n",
       "  original_title                                           overview  \\\n",
       "0         Avatar  In the 22nd century, a paraplegic Marine is di...   \n",
       "\n",
       "   popularity                               production_companies  ... runtime  \\\n",
       "0  150.437577  [{\"name\": \"Ingenious Film Partners\", \"id\": 289...  ...   162.0   \n",
       "\n",
       "                                    spoken_languages    status  \\\n",
       "0  [{\"iso_639_1\": \"en\", \"name\": \"English\"}, {\"iso...  Released   \n",
       "\n",
       "                       tagline   title vote_average vote_count movie_id  \\\n",
       "0  Enter the World of Pandora.  Avatar          7.2      11800    19995   \n",
       "\n",
       "                                                cast  \\\n",
       "0  [{\"cast_id\": 242, \"character\": \"Jake Sully\", \"...   \n",
       "\n",
       "                                                crew  \n",
       "0  [{\"credit_id\": \"52fe48009251416c750aca23\", \"de...  \n",
       "\n",
       "[1 rows x 23 columns]"
      ]
     },
     "execution_count": 8,
     "metadata": {},
     "output_type": "execute_result"
    }
   ],
   "source": [
    "movies.head(1)"
   ]
  },
  {
   "cell_type": "code",
   "execution_count": 9,
   "id": "95ba6d9c",
   "metadata": {},
   "outputs": [
    {
     "name": "stdout",
     "output_type": "stream",
     "text": [
      "<class 'pandas.core.frame.DataFrame'>\n",
      "RangeIndex: 4809 entries, 0 to 4808\n",
      "Data columns (total 23 columns):\n",
      " #   Column                Non-Null Count  Dtype  \n",
      "---  ------                --------------  -----  \n",
      " 0   budget                4809 non-null   int64  \n",
      " 1   genres                4809 non-null   object \n",
      " 2   homepage              1713 non-null   object \n",
      " 3   id                    4809 non-null   int64  \n",
      " 4   keywords              4809 non-null   object \n",
      " 5   original_language     4809 non-null   object \n",
      " 6   original_title        4809 non-null   object \n",
      " 7   overview              4806 non-null   object \n",
      " 8   popularity            4809 non-null   float64\n",
      " 9   production_companies  4809 non-null   object \n",
      " 10  production_countries  4809 non-null   object \n",
      " 11  release_date          4808 non-null   object \n",
      " 12  revenue               4809 non-null   int64  \n",
      " 13  runtime               4807 non-null   float64\n",
      " 14  spoken_languages      4809 non-null   object \n",
      " 15  status                4809 non-null   object \n",
      " 16  tagline               3965 non-null   object \n",
      " 17  title                 4809 non-null   object \n",
      " 18  vote_average          4809 non-null   float64\n",
      " 19  vote_count            4809 non-null   int64  \n",
      " 20  movie_id              4809 non-null   int64  \n",
      " 21  cast                  4809 non-null   object \n",
      " 22  crew                  4809 non-null   object \n",
      "dtypes: float64(3), int64(5), object(15)\n",
      "memory usage: 864.2+ KB\n"
     ]
    }
   ],
   "source": [
    "movies.info()"
   ]
  },
  {
   "cell_type": "code",
   "execution_count": 10,
   "id": "d49abef2",
   "metadata": {},
   "outputs": [
    {
     "data": {
      "text/plain": [
       "3379    [{\"cast_id\": 11, \"character\": \"Veer Pratap Sin...\n",
       "Name: cast, dtype: object"
      ]
     },
     "execution_count": 10,
     "metadata": {},
     "output_type": "execute_result"
    }
   ],
   "source": [
    "movies[movies['original_title']=='Veer-Zaara']['cast']"
   ]
  },
  {
   "cell_type": "code",
   "execution_count": 11,
   "id": "56c7c013",
   "metadata": {
    "scrolled": true
   },
   "outputs": [
    {
     "data": {
      "text/plain": [
       "'[{\"cast_id\": 11, \"character\": \"Veer Pratap Singh\", \"credit_id\": \"52fe43b6c3a36847f8069abb\", \"gender\": 2, \"id\": 35742, \"name\": \"Shah Rukh Khan\", \"order\": 0}, {\"cast_id\": 13, \"character\": \"Zaara Hayaat Khan\", \"credit_id\": \"52fe43b6c3a36847f8069ac3\", \"gender\": 1, \"id\": 35745, \"name\": \"Preity Zinta\", \"order\": 1}, {\"cast_id\": 12, \"character\": \"Saamiya Siddiqui\", \"credit_id\": \"52fe43b6c3a36847f8069abf\", \"gender\": 1, \"id\": 35776, \"name\": \"Rani Mukerji\", \"order\": 2}, {\"cast_id\": 18, \"character\": \"Chaudhary Sumer Singh\", \"credit_id\": \"52fe43b6c3a36847f8069ad7\", \"gender\": 2, \"id\": 35780, \"name\": \"Amitabh Bachchan\", \"order\": 3}, {\"cast_id\": 19, \"character\": \"Maati\", \"credit_id\": \"52fe43b6c3a36847f8069adb\", \"gender\": 1, \"id\": 35781, \"name\": \"Hema Malini\", \"order\": 4}, {\"cast_id\": 15, \"character\": \"Shabbo\", \"credit_id\": \"52fe43b6c3a36847f8069acb\", \"gender\": 1, \"id\": 35778, \"name\": \"Divya Dutta\", \"order\": 5}, {\"cast_id\": 17, \"character\": \"Zakir Ahmed\", \"credit_id\": \"52fe43b6c3a36847f8069ad3\", \"gender\": 2, \"id\": 6217, \"name\": \"Anupam Kher\", \"order\": 6}, {\"cast_id\": 14, \"character\": \"Mariam Hayaat Khan\", \"credit_id\": \"52fe43b6c3a36847f8069ac7\", \"gender\": 1, \"id\": 35777, \"name\": \"Kirron Kher\", \"order\": 7}, {\"cast_id\": 16, \"character\": \"Jahangir Hayaat Khan\", \"credit_id\": \"52fe43b6c3a36847f8069acf\", \"gender\": 2, \"id\": 35779, \"name\": \"Boman Irani\", \"order\": 8}, {\"cast_id\": 20, \"character\": \"Razaa Shirazi\", \"credit_id\": \"52fe43b6c3a36847f8069adf\", \"gender\": 0, \"id\": 35782, \"name\": \"Manoj Bajpayee\", \"order\": 9}, {\"cast_id\": 21, \"character\": \"Bebe\", \"credit_id\": \"52fe43b6c3a36847f8069ae3\", \"gender\": 1, \"id\": 35783, \"name\": \"Zohra Sehgal\", \"order\": 10}, {\"cast_id\": 22, \"character\": \"Jailor\", \"credit_id\": \"52fe43b6c3a36847f8069ae7\", \"gender\": 2, \"id\": 85724, \"name\": \"Akhilendra Mishra\", \"order\": 11}, {\"cast_id\": 23, \"character\": \"\", \"credit_id\": \"58e65b96925141354c003277\", \"gender\": 0, \"id\": 1246733, \"name\": \"Tom Alter\", \"order\": 12}]'"
      ]
     },
     "execution_count": 11,
     "metadata": {},
     "output_type": "execute_result"
    }
   ],
   "source": [
    "movies.iloc[3379]['cast']"
   ]
  },
  {
   "cell_type": "code",
   "execution_count": 12,
   "id": "a35e7736",
   "metadata": {
    "scrolled": false
   },
   "outputs": [
    {
     "data": {
      "text/html": [
       "<div>\n",
       "<style scoped>\n",
       "    .dataframe tbody tr th:only-of-type {\n",
       "        vertical-align: middle;\n",
       "    }\n",
       "\n",
       "    .dataframe tbody tr th {\n",
       "        vertical-align: top;\n",
       "    }\n",
       "\n",
       "    .dataframe thead th {\n",
       "        text-align: right;\n",
       "    }\n",
       "</style>\n",
       "<table border=\"1\" class=\"dataframe\">\n",
       "  <thead>\n",
       "    <tr style=\"text-align: right;\">\n",
       "      <th></th>\n",
       "      <th>budget</th>\n",
       "      <th>genres</th>\n",
       "      <th>homepage</th>\n",
       "      <th>id</th>\n",
       "      <th>keywords</th>\n",
       "      <th>original_language</th>\n",
       "      <th>original_title</th>\n",
       "      <th>overview</th>\n",
       "      <th>popularity</th>\n",
       "      <th>production_companies</th>\n",
       "      <th>...</th>\n",
       "      <th>runtime</th>\n",
       "      <th>spoken_languages</th>\n",
       "      <th>status</th>\n",
       "      <th>tagline</th>\n",
       "      <th>title</th>\n",
       "      <th>vote_average</th>\n",
       "      <th>vote_count</th>\n",
       "      <th>movie_id</th>\n",
       "      <th>cast</th>\n",
       "      <th>crew</th>\n",
       "    </tr>\n",
       "  </thead>\n",
       "  <tbody>\n",
       "    <tr>\n",
       "      <th>1026</th>\n",
       "      <td>0</td>\n",
       "      <td>[{\"id\": 18, \"name\": \"Drama\"}]</td>\n",
       "      <td>NaN</td>\n",
       "      <td>7504</td>\n",
       "      <td>[{\"id\": 818, \"name\": \"based on novel\"}, {\"id\":...</td>\n",
       "      <td>hi</td>\n",
       "      <td>1947: Earth</td>\n",
       "      <td>It's 1947 and the borderlines between India an...</td>\n",
       "      <td>1.246883</td>\n",
       "      <td>[{\"name\": \"Cracking the Earth Films\", \"id\": 22...</td>\n",
       "      <td>...</td>\n",
       "      <td>101.0</td>\n",
       "      <td>[{\"iso_639_1\": \"hi\", \"name\": \"\\u0939\\u093f\\u09...</td>\n",
       "      <td>Released</td>\n",
       "      <td>NaN</td>\n",
       "      <td>Earth</td>\n",
       "      <td>6.6</td>\n",
       "      <td>9</td>\n",
       "      <td>7504</td>\n",
       "      <td>[{\"cast_id\": 2, \"character\": \"Dil Navaz\", \"cre...</td>\n",
       "      <td>[{\"credit_id\": \"52fe4480c3a36847f8099e81\", \"de...</td>\n",
       "    </tr>\n",
       "    <tr>\n",
       "      <th>2967</th>\n",
       "      <td>7400000</td>\n",
       "      <td>[{\"id\": 18, \"name\": \"Drama\"}, {\"id\": 10749, \"n...</td>\n",
       "      <td>NaN</td>\n",
       "      <td>14395</td>\n",
       "      <td>[{\"id\": 596, \"name\": \"adultery\"}, {\"id\": 34094...</td>\n",
       "      <td>hi</td>\n",
       "      <td>कभी अलविदा ना कहना</td>\n",
       "      <td>Dev and Maya are both married to different peo...</td>\n",
       "      <td>3.246903</td>\n",
       "      <td>[{\"name\": \"Yash Raj Films\", \"id\": 1569}, {\"nam...</td>\n",
       "      <td>...</td>\n",
       "      <td>193.0</td>\n",
       "      <td>[{\"iso_639_1\": \"en\", \"name\": \"English\"}, {\"iso...</td>\n",
       "      <td>Released</td>\n",
       "      <td>A Love.... That Broke All Relationships</td>\n",
       "      <td>Kabhi Alvida Naa Kehna</td>\n",
       "      <td>6.1</td>\n",
       "      <td>42</td>\n",
       "      <td>14395</td>\n",
       "      <td>[{\"cast_id\": 1, \"character\": \"Dev Saran\", \"cre...</td>\n",
       "      <td>[{\"credit_id\": \"58a5e57892514152a70006bf\", \"de...</td>\n",
       "    </tr>\n",
       "  </tbody>\n",
       "</table>\n",
       "<p>2 rows × 23 columns</p>\n",
       "</div>"
      ],
      "text/plain": [
       "       budget                                             genres homepage  \\\n",
       "1026        0                      [{\"id\": 18, \"name\": \"Drama\"}]      NaN   \n",
       "2967  7400000  [{\"id\": 18, \"name\": \"Drama\"}, {\"id\": 10749, \"n...      NaN   \n",
       "\n",
       "         id                                           keywords  \\\n",
       "1026   7504  [{\"id\": 818, \"name\": \"based on novel\"}, {\"id\":...   \n",
       "2967  14395  [{\"id\": 596, \"name\": \"adultery\"}, {\"id\": 34094...   \n",
       "\n",
       "     original_language      original_title  \\\n",
       "1026                hi         1947: Earth   \n",
       "2967                hi  कभी अलविदा ना कहना   \n",
       "\n",
       "                                               overview  popularity  \\\n",
       "1026  It's 1947 and the borderlines between India an...    1.246883   \n",
       "2967  Dev and Maya are both married to different peo...    3.246903   \n",
       "\n",
       "                                   production_companies  ... runtime  \\\n",
       "1026  [{\"name\": \"Cracking the Earth Films\", \"id\": 22...  ...   101.0   \n",
       "2967  [{\"name\": \"Yash Raj Films\", \"id\": 1569}, {\"nam...  ...   193.0   \n",
       "\n",
       "                                       spoken_languages    status  \\\n",
       "1026  [{\"iso_639_1\": \"hi\", \"name\": \"\\u0939\\u093f\\u09...  Released   \n",
       "2967  [{\"iso_639_1\": \"en\", \"name\": \"English\"}, {\"iso...  Released   \n",
       "\n",
       "                                      tagline                   title  \\\n",
       "1026                                      NaN                   Earth   \n",
       "2967  A Love.... That Broke All Relationships  Kabhi Alvida Naa Kehna   \n",
       "\n",
       "     vote_average vote_count movie_id  \\\n",
       "1026          6.6          9     7504   \n",
       "2967          6.1         42    14395   \n",
       "\n",
       "                                                   cast  \\\n",
       "1026  [{\"cast_id\": 2, \"character\": \"Dil Navaz\", \"cre...   \n",
       "2967  [{\"cast_id\": 1, \"character\": \"Dev Saran\", \"cre...   \n",
       "\n",
       "                                                   crew  \n",
       "1026  [{\"credit_id\": \"52fe4480c3a36847f8099e81\", \"de...  \n",
       "2967  [{\"credit_id\": \"58a5e57892514152a70006bf\", \"de...  \n",
       "\n",
       "[2 rows x 23 columns]"
      ]
     },
     "execution_count": 12,
     "metadata": {},
     "output_type": "execute_result"
    }
   ],
   "source": [
    "movies[movies['original_language']=='hi'].head(2)"
   ]
  },
  {
   "cell_type": "code",
   "execution_count": 13,
   "id": "e8885fda",
   "metadata": {},
   "outputs": [
    {
     "data": {
      "text/plain": [
       "1026                           1947: Earth\n",
       "2967                    कभी अलविदा ना कहना\n",
       "2976                             Housefull\n",
       "3094                                   कृष\n",
       "3162                      Jab Tak Hai Jaan\n",
       "3233               Yeh Jawaani Hai Deewani\n",
       "3332                         Ta Ra Rum Pum\n",
       "3379                            Veer-Zaara\n",
       "3548                       Rang De Basanti\n",
       "3558                         Dum Maaro Dum\n",
       "3650                     Gandhi, My Father\n",
       "3729                               Airlift\n",
       "4173                               एबीसीडी\n",
       "4205                                 Dabba\n",
       "4217                         दिल जो भी कहे\n",
       "4301                       Monsoon Wedding\n",
       "4337    Rocket Singh: Salesman of the Year\n",
       "4377                                  Fiza\n",
       "4518                     Faith Connections\n",
       "Name: original_title, dtype: object"
      ]
     },
     "execution_count": 13,
     "metadata": {},
     "output_type": "execute_result"
    }
   ],
   "source": [
    "movies[movies['original_language']=='hi'].original_title"
   ]
  },
  {
   "cell_type": "code",
   "execution_count": 14,
   "id": "115d7c01",
   "metadata": {},
   "outputs": [
    {
     "data": {
      "text/html": [
       "<div>\n",
       "<style scoped>\n",
       "    .dataframe tbody tr th:only-of-type {\n",
       "        vertical-align: middle;\n",
       "    }\n",
       "\n",
       "    .dataframe tbody tr th {\n",
       "        vertical-align: top;\n",
       "    }\n",
       "\n",
       "    .dataframe thead th {\n",
       "        text-align: right;\n",
       "    }\n",
       "</style>\n",
       "<table border=\"1\" class=\"dataframe\">\n",
       "  <thead>\n",
       "    <tr style=\"text-align: right;\">\n",
       "      <th></th>\n",
       "      <th>budget</th>\n",
       "      <th>genres</th>\n",
       "      <th>homepage</th>\n",
       "      <th>id</th>\n",
       "      <th>keywords</th>\n",
       "      <th>original_language</th>\n",
       "      <th>original_title</th>\n",
       "      <th>overview</th>\n",
       "      <th>popularity</th>\n",
       "      <th>production_companies</th>\n",
       "      <th>...</th>\n",
       "      <th>runtime</th>\n",
       "      <th>spoken_languages</th>\n",
       "      <th>status</th>\n",
       "      <th>tagline</th>\n",
       "      <th>title</th>\n",
       "      <th>vote_average</th>\n",
       "      <th>vote_count</th>\n",
       "      <th>movie_id</th>\n",
       "      <th>cast</th>\n",
       "      <th>crew</th>\n",
       "    </tr>\n",
       "  </thead>\n",
       "  <tbody>\n",
       "    <tr>\n",
       "      <th>68</th>\n",
       "      <td>140000000</td>\n",
       "      <td>[{\"id\": 28, \"name\": \"Action\"}, {\"id\": 878, \"na...</td>\n",
       "      <td>http://www.ironmanmovie.com/</td>\n",
       "      <td>1726</td>\n",
       "      <td>[{\"id\": 539, \"name\": \"middle east\"}, {\"id\": 61...</td>\n",
       "      <td>en</td>\n",
       "      <td>Iron Man</td>\n",
       "      <td>After being held captive in an Afghan cave, bi...</td>\n",
       "      <td>120.725053</td>\n",
       "      <td>[{\"name\": \"Marvel Studios\", \"id\": 420}]</td>\n",
       "      <td>...</td>\n",
       "      <td>126.0</td>\n",
       "      <td>[{\"iso_639_1\": \"en\", \"name\": \"English\"}, {\"iso...</td>\n",
       "      <td>Released</td>\n",
       "      <td>Heroes aren't born. They're built.</td>\n",
       "      <td>Iron Man</td>\n",
       "      <td>7.4</td>\n",
       "      <td>8776</td>\n",
       "      <td>1726</td>\n",
       "      <td>[{\"cast_id\": 19, \"character\": \"Tony Stark / Ir...</td>\n",
       "      <td>[{\"credit_id\": \"52fe4311c3a36847f8037f21\", \"de...</td>\n",
       "    </tr>\n",
       "  </tbody>\n",
       "</table>\n",
       "<p>1 rows × 23 columns</p>\n",
       "</div>"
      ],
      "text/plain": [
       "       budget                                             genres  \\\n",
       "68  140000000  [{\"id\": 28, \"name\": \"Action\"}, {\"id\": 878, \"na...   \n",
       "\n",
       "                        homepage    id  \\\n",
       "68  http://www.ironmanmovie.com/  1726   \n",
       "\n",
       "                                             keywords original_language  \\\n",
       "68  [{\"id\": 539, \"name\": \"middle east\"}, {\"id\": 61...                en   \n",
       "\n",
       "   original_title                                           overview  \\\n",
       "68       Iron Man  After being held captive in an Afghan cave, bi...   \n",
       "\n",
       "    popularity                     production_companies  ... runtime  \\\n",
       "68  120.725053  [{\"name\": \"Marvel Studios\", \"id\": 420}]  ...   126.0   \n",
       "\n",
       "                                     spoken_languages    status  \\\n",
       "68  [{\"iso_639_1\": \"en\", \"name\": \"English\"}, {\"iso...  Released   \n",
       "\n",
       "                               tagline     title vote_average vote_count  \\\n",
       "68  Heroes aren't born. They're built.  Iron Man          7.4       8776   \n",
       "\n",
       "   movie_id                                               cast  \\\n",
       "68     1726  [{\"cast_id\": 19, \"character\": \"Tony Stark / Ir...   \n",
       "\n",
       "                                                 crew  \n",
       "68  [{\"credit_id\": \"52fe4311c3a36847f8037f21\", \"de...  \n",
       "\n",
       "[1 rows x 23 columns]"
      ]
     },
     "execution_count": 14,
     "metadata": {},
     "output_type": "execute_result"
    }
   ],
   "source": [
    "movies[movies['title']=='Iron Man']"
   ]
  },
  {
   "cell_type": "code",
   "execution_count": null,
   "id": "32b5a6ec",
   "metadata": {},
   "outputs": [],
   "source": []
  },
  {
   "cell_type": "code",
   "execution_count": 15,
   "id": "83504f22",
   "metadata": {},
   "outputs": [],
   "source": [
    "# genres\n",
    "# id\n",
    "# keywords\n",
    "# title\n",
    "# Overview\n",
    "# cast\n",
    "# creaw\n",
    "# production_companies\n",
    "# original_language\n",
    "# vote_average\n",
    "\n"
   ]
  },
  {
   "cell_type": "code",
   "execution_count": 16,
   "id": "88525c5e",
   "metadata": {},
   "outputs": [],
   "source": [
    "movies=movies[['movie_id','title','overview','genres','keywords','cast','crew','production_companies','vote_average']]"
   ]
  },
  {
   "cell_type": "code",
   "execution_count": 17,
   "id": "e39dce07",
   "metadata": {},
   "outputs": [
    {
     "data": {
      "text/html": [
       "<div>\n",
       "<style scoped>\n",
       "    .dataframe tbody tr th:only-of-type {\n",
       "        vertical-align: middle;\n",
       "    }\n",
       "\n",
       "    .dataframe tbody tr th {\n",
       "        vertical-align: top;\n",
       "    }\n",
       "\n",
       "    .dataframe thead th {\n",
       "        text-align: right;\n",
       "    }\n",
       "</style>\n",
       "<table border=\"1\" class=\"dataframe\">\n",
       "  <thead>\n",
       "    <tr style=\"text-align: right;\">\n",
       "      <th></th>\n",
       "      <th>movie_id</th>\n",
       "      <th>title</th>\n",
       "      <th>overview</th>\n",
       "      <th>genres</th>\n",
       "      <th>keywords</th>\n",
       "      <th>cast</th>\n",
       "      <th>crew</th>\n",
       "      <th>production_companies</th>\n",
       "      <th>vote_average</th>\n",
       "    </tr>\n",
       "  </thead>\n",
       "  <tbody>\n",
       "    <tr>\n",
       "      <th>0</th>\n",
       "      <td>19995</td>\n",
       "      <td>Avatar</td>\n",
       "      <td>In the 22nd century, a paraplegic Marine is di...</td>\n",
       "      <td>[{\"id\": 28, \"name\": \"Action\"}, {\"id\": 12, \"nam...</td>\n",
       "      <td>[{\"id\": 1463, \"name\": \"culture clash\"}, {\"id\":...</td>\n",
       "      <td>[{\"cast_id\": 242, \"character\": \"Jake Sully\", \"...</td>\n",
       "      <td>[{\"credit_id\": \"52fe48009251416c750aca23\", \"de...</td>\n",
       "      <td>[{\"name\": \"Ingenious Film Partners\", \"id\": 289...</td>\n",
       "      <td>7.2</td>\n",
       "    </tr>\n",
       "    <tr>\n",
       "      <th>1</th>\n",
       "      <td>285</td>\n",
       "      <td>Pirates of the Caribbean: At World's End</td>\n",
       "      <td>Captain Barbossa, long believed to be dead, ha...</td>\n",
       "      <td>[{\"id\": 12, \"name\": \"Adventure\"}, {\"id\": 14, \"...</td>\n",
       "      <td>[{\"id\": 270, \"name\": \"ocean\"}, {\"id\": 726, \"na...</td>\n",
       "      <td>[{\"cast_id\": 4, \"character\": \"Captain Jack Spa...</td>\n",
       "      <td>[{\"credit_id\": \"52fe4232c3a36847f800b579\", \"de...</td>\n",
       "      <td>[{\"name\": \"Walt Disney Pictures\", \"id\": 2}, {\"...</td>\n",
       "      <td>6.9</td>\n",
       "    </tr>\n",
       "    <tr>\n",
       "      <th>2</th>\n",
       "      <td>206647</td>\n",
       "      <td>Spectre</td>\n",
       "      <td>A cryptic message from Bond’s past sends him o...</td>\n",
       "      <td>[{\"id\": 28, \"name\": \"Action\"}, {\"id\": 12, \"nam...</td>\n",
       "      <td>[{\"id\": 470, \"name\": \"spy\"}, {\"id\": 818, \"name...</td>\n",
       "      <td>[{\"cast_id\": 1, \"character\": \"James Bond\", \"cr...</td>\n",
       "      <td>[{\"credit_id\": \"54805967c3a36829b5002c41\", \"de...</td>\n",
       "      <td>[{\"name\": \"Columbia Pictures\", \"id\": 5}, {\"nam...</td>\n",
       "      <td>6.3</td>\n",
       "    </tr>\n",
       "    <tr>\n",
       "      <th>3</th>\n",
       "      <td>49026</td>\n",
       "      <td>The Dark Knight Rises</td>\n",
       "      <td>Following the death of District Attorney Harve...</td>\n",
       "      <td>[{\"id\": 28, \"name\": \"Action\"}, {\"id\": 80, \"nam...</td>\n",
       "      <td>[{\"id\": 849, \"name\": \"dc comics\"}, {\"id\": 853,...</td>\n",
       "      <td>[{\"cast_id\": 2, \"character\": \"Bruce Wayne / Ba...</td>\n",
       "      <td>[{\"credit_id\": \"52fe4781c3a36847f81398c3\", \"de...</td>\n",
       "      <td>[{\"name\": \"Legendary Pictures\", \"id\": 923}, {\"...</td>\n",
       "      <td>7.6</td>\n",
       "    </tr>\n",
       "    <tr>\n",
       "      <th>4</th>\n",
       "      <td>49529</td>\n",
       "      <td>John Carter</td>\n",
       "      <td>John Carter is a war-weary, former military ca...</td>\n",
       "      <td>[{\"id\": 28, \"name\": \"Action\"}, {\"id\": 12, \"nam...</td>\n",
       "      <td>[{\"id\": 818, \"name\": \"based on novel\"}, {\"id\":...</td>\n",
       "      <td>[{\"cast_id\": 5, \"character\": \"John Carter\", \"c...</td>\n",
       "      <td>[{\"credit_id\": \"52fe479ac3a36847f813eaa3\", \"de...</td>\n",
       "      <td>[{\"name\": \"Walt Disney Pictures\", \"id\": 2}]</td>\n",
       "      <td>6.1</td>\n",
       "    </tr>\n",
       "  </tbody>\n",
       "</table>\n",
       "</div>"
      ],
      "text/plain": [
       "   movie_id                                     title  \\\n",
       "0     19995                                    Avatar   \n",
       "1       285  Pirates of the Caribbean: At World's End   \n",
       "2    206647                                   Spectre   \n",
       "3     49026                     The Dark Knight Rises   \n",
       "4     49529                               John Carter   \n",
       "\n",
       "                                            overview  \\\n",
       "0  In the 22nd century, a paraplegic Marine is di...   \n",
       "1  Captain Barbossa, long believed to be dead, ha...   \n",
       "2  A cryptic message from Bond’s past sends him o...   \n",
       "3  Following the death of District Attorney Harve...   \n",
       "4  John Carter is a war-weary, former military ca...   \n",
       "\n",
       "                                              genres  \\\n",
       "0  [{\"id\": 28, \"name\": \"Action\"}, {\"id\": 12, \"nam...   \n",
       "1  [{\"id\": 12, \"name\": \"Adventure\"}, {\"id\": 14, \"...   \n",
       "2  [{\"id\": 28, \"name\": \"Action\"}, {\"id\": 12, \"nam...   \n",
       "3  [{\"id\": 28, \"name\": \"Action\"}, {\"id\": 80, \"nam...   \n",
       "4  [{\"id\": 28, \"name\": \"Action\"}, {\"id\": 12, \"nam...   \n",
       "\n",
       "                                            keywords  \\\n",
       "0  [{\"id\": 1463, \"name\": \"culture clash\"}, {\"id\":...   \n",
       "1  [{\"id\": 270, \"name\": \"ocean\"}, {\"id\": 726, \"na...   \n",
       "2  [{\"id\": 470, \"name\": \"spy\"}, {\"id\": 818, \"name...   \n",
       "3  [{\"id\": 849, \"name\": \"dc comics\"}, {\"id\": 853,...   \n",
       "4  [{\"id\": 818, \"name\": \"based on novel\"}, {\"id\":...   \n",
       "\n",
       "                                                cast  \\\n",
       "0  [{\"cast_id\": 242, \"character\": \"Jake Sully\", \"...   \n",
       "1  [{\"cast_id\": 4, \"character\": \"Captain Jack Spa...   \n",
       "2  [{\"cast_id\": 1, \"character\": \"James Bond\", \"cr...   \n",
       "3  [{\"cast_id\": 2, \"character\": \"Bruce Wayne / Ba...   \n",
       "4  [{\"cast_id\": 5, \"character\": \"John Carter\", \"c...   \n",
       "\n",
       "                                                crew  \\\n",
       "0  [{\"credit_id\": \"52fe48009251416c750aca23\", \"de...   \n",
       "1  [{\"credit_id\": \"52fe4232c3a36847f800b579\", \"de...   \n",
       "2  [{\"credit_id\": \"54805967c3a36829b5002c41\", \"de...   \n",
       "3  [{\"credit_id\": \"52fe4781c3a36847f81398c3\", \"de...   \n",
       "4  [{\"credit_id\": \"52fe479ac3a36847f813eaa3\", \"de...   \n",
       "\n",
       "                                production_companies  vote_average  \n",
       "0  [{\"name\": \"Ingenious Film Partners\", \"id\": 289...           7.2  \n",
       "1  [{\"name\": \"Walt Disney Pictures\", \"id\": 2}, {\"...           6.9  \n",
       "2  [{\"name\": \"Columbia Pictures\", \"id\": 5}, {\"nam...           6.3  \n",
       "3  [{\"name\": \"Legendary Pictures\", \"id\": 923}, {\"...           7.6  \n",
       "4        [{\"name\": \"Walt Disney Pictures\", \"id\": 2}]           6.1  "
      ]
     },
     "execution_count": 17,
     "metadata": {},
     "output_type": "execute_result"
    }
   ],
   "source": [
    "movies.head()"
   ]
  },
  {
   "cell_type": "code",
   "execution_count": 18,
   "id": "1fc181af",
   "metadata": {},
   "outputs": [
    {
     "data": {
      "text/plain": [
       "movie_id                0\n",
       "title                   0\n",
       "overview                3\n",
       "genres                  0\n",
       "keywords                0\n",
       "cast                    0\n",
       "crew                    0\n",
       "production_companies    0\n",
       "vote_average            0\n",
       "dtype: int64"
      ]
     },
     "execution_count": 18,
     "metadata": {},
     "output_type": "execute_result"
    }
   ],
   "source": [
    "# missing data\n",
    "movies.isnull().sum()"
   ]
  },
  {
   "cell_type": "code",
   "execution_count": 19,
   "id": "02df6aa0",
   "metadata": {},
   "outputs": [],
   "source": [
    "movies.dropna(inplace=True)"
   ]
  },
  {
   "cell_type": "code",
   "execution_count": 20,
   "id": "1dabfe33",
   "metadata": {},
   "outputs": [
    {
     "data": {
      "text/plain": [
       "0"
      ]
     },
     "execution_count": 20,
     "metadata": {},
     "output_type": "execute_result"
    }
   ],
   "source": [
    "# checkin present any duplicate or not\n",
    "movies.duplicated().sum()"
   ]
  },
  {
   "cell_type": "code",
   "execution_count": 21,
   "id": "5e272c24",
   "metadata": {},
   "outputs": [],
   "source": [
    "# Define bins and labels\n",
    "bins = [0, 3, 6, 8, 10]\n",
    "labels = ['low', 'medium', 'good', 'excellent']\n",
    "\n",
    "# Add rating category column based on bins\n",
    "movies['vote_average'] = pd.cut(movies['vote_average'], bins=bins, labels=labels)\n"
   ]
  },
  {
   "cell_type": "code",
   "execution_count": 22,
   "id": "c121ce85",
   "metadata": {},
   "outputs": [
    {
     "data": {
      "text/plain": [
       "'[{\"id\": 12, \"name\": \"Adventure\"}, {\"id\": 14, \"name\": \"Fantasy\"}, {\"id\": 28, \"name\": \"Action\"}]'"
      ]
     },
     "execution_count": 22,
     "metadata": {},
     "output_type": "execute_result"
    }
   ],
   "source": [
    "movies.iloc[1].genres\n",
    "    "
   ]
  },
  {
   "cell_type": "code",
   "execution_count": 23,
   "id": "8ce7a82a",
   "metadata": {},
   "outputs": [],
   "source": [
    "# '[{\"id\": 12, \"name\": \"Adventure\"}, {\"id\": 14, \"name\": \"Fantasy\"}, {\"id\": 28, \"name\": \"Action\"}]'\n",
    "# ['Action',Adventure,'Fantasy']"
   ]
  },
  {
   "cell_type": "code",
   "execution_count": 24,
   "id": "d19f1c27",
   "metadata": {},
   "outputs": [],
   "source": [
    "import ast"
   ]
  },
  {
   "cell_type": "markdown",
   "id": "d753cfeb",
   "metadata": {},
   "source": [
    "<b><font color='#067F7D' style='font-family:cambria; font-size:20px'>`ast` Module</font></b><br>\n",
    "\n",
    " - <font color=\"brown\" style=\"font-family:Cambria; font-size:16px\">In Python, the `ast module` is used for `parsing and manipulating abstract syntax trees` (ASTs). ASTs are a structured representation of code, breaking it down into expressions, statements, functions, classes, and more.</font>\n",
    "<br>\n",
    "\n",
    "  - <font color=\"brown\" style=\"font-family:Cambria; font-size:16px\">The `ast.literal_eval function` specifically is part of the `ast module`. It evaluates a `string containing` a Python literal (like `strings, numbers, tuples, lists, dictionaries, booleans, and None`) and returns the `corresponding Python object`. This is `done safely`, `without the security risks` associated with using the `eval() function on arbitrary` input strings.</font>\n",
    "<br>\n",
    "\n",
    "  - <font color=\"brown\" style=\"font-family:Cambria; font-size:16px\">`ast.literal_eval` parses the string ` '[{\"id\": 12, \"name\": \"Adventure\"}, {\"id\": 14, \"name\": \"Fantasy\"}, {\"id\": 28, \"name\": \"Action\"}]'` and evaluates it to `produce a Python list` `{'id': 12, 'name': 'Adventure'}......`. This function is particularly useful when you need to safely convert a string representation of a literal into its corresponding Python object.</font>\n",
    "<br>\n",
    "\n"
   ]
  },
  {
   "cell_type": "code",
   "execution_count": 25,
   "id": "b521ebd0",
   "metadata": {},
   "outputs": [],
   "source": [
    "def convert(obj):\n",
    "    L=[]\n",
    "    for i in ast.literal_eval(obj):\n",
    "        L.append(i['name'])\n",
    "    return L"
   ]
  },
  {
   "cell_type": "code",
   "execution_count": 26,
   "id": "15cc69e6",
   "metadata": {},
   "outputs": [
    {
     "data": {
      "text/plain": [
       "['Adventure', 'Fantasy', 'Action']"
      ]
     },
     "execution_count": 26,
     "metadata": {},
     "output_type": "execute_result"
    }
   ],
   "source": [
    "convert('[{\"id\": 12, \"name\": \"Adventure\"}, {\"id\": 14, \"name\": \"Fantasy\"}, {\"id\": 28, \"name\": \"Action\"}]')"
   ]
  },
  {
   "cell_type": "code",
   "execution_count": 27,
   "id": "776152c1",
   "metadata": {},
   "outputs": [],
   "source": [
    "movies['genres']=movies['genres'].apply(convert)"
   ]
  },
  {
   "cell_type": "code",
   "execution_count": 28,
   "id": "d0ab23a1",
   "metadata": {},
   "outputs": [],
   "source": [
    "movies['keywords']=movies['keywords'].apply(convert)"
   ]
  },
  {
   "cell_type": "code",
   "execution_count": 29,
   "id": "ee80f3ad",
   "metadata": {},
   "outputs": [],
   "source": [
    "movies['production_companies']=movies['production_companies'].apply(convert)"
   ]
  },
  {
   "cell_type": "code",
   "execution_count": 31,
   "id": "8f92e284",
   "metadata": {},
   "outputs": [
    {
     "name": "stdout",
     "output_type": "stream",
     "text": [
      "Chiwetel Ejiofor\n",
      "Tim Allen\n",
      "Alice Braga\n",
      "Jose Pablo Cantillo\n",
      "Randy Couture\n"
     ]
    }
   ],
   "source": [
    "# from this cast column we are taking only 5 dictornaris only 5\n",
    "counter=0\n",
    "for i in ast.literal_eval(movies.iloc[3379]['cast']):\n",
    "    if counter !=5:\n",
    "        print(i['name'])\n",
    "        counter=counter+1\n",
    "    else:\n",
    "        break\n",
    "        "
   ]
  },
  {
   "cell_type": "code",
   "execution_count": 32,
   "id": "d46483a4",
   "metadata": {},
   "outputs": [],
   "source": [
    "def convert3(obj):\n",
    "    L=[]\n",
    "    counter=0\n",
    "    for i in ast.literal_eval(obj):\n",
    "        if counter!=5:\n",
    "            L.append(i['name'])\n",
    "            counter=counter+1\n",
    "        else:\n",
    "            break\n",
    "    return L"
   ]
  },
  {
   "cell_type": "code",
   "execution_count": 33,
   "id": "cefcf60f",
   "metadata": {},
   "outputs": [],
   "source": [
    "movies['cast']=movies['cast'].apply(convert3)"
   ]
  },
  {
   "cell_type": "code",
   "execution_count": 34,
   "id": "85d097a0",
   "metadata": {},
   "outputs": [
    {
     "data": {
      "text/html": [
       "<div>\n",
       "<style scoped>\n",
       "    .dataframe tbody tr th:only-of-type {\n",
       "        vertical-align: middle;\n",
       "    }\n",
       "\n",
       "    .dataframe tbody tr th {\n",
       "        vertical-align: top;\n",
       "    }\n",
       "\n",
       "    .dataframe thead th {\n",
       "        text-align: right;\n",
       "    }\n",
       "</style>\n",
       "<table border=\"1\" class=\"dataframe\">\n",
       "  <thead>\n",
       "    <tr style=\"text-align: right;\">\n",
       "      <th></th>\n",
       "      <th>movie_id</th>\n",
       "      <th>title</th>\n",
       "      <th>overview</th>\n",
       "      <th>genres</th>\n",
       "      <th>keywords</th>\n",
       "      <th>cast</th>\n",
       "      <th>crew</th>\n",
       "      <th>production_companies</th>\n",
       "      <th>vote_average</th>\n",
       "    </tr>\n",
       "  </thead>\n",
       "  <tbody>\n",
       "    <tr>\n",
       "      <th>0</th>\n",
       "      <td>19995</td>\n",
       "      <td>Avatar</td>\n",
       "      <td>In the 22nd century, a paraplegic Marine is di...</td>\n",
       "      <td>[Action, Adventure, Fantasy, Science Fiction]</td>\n",
       "      <td>[culture clash, future, space war, space colon...</td>\n",
       "      <td>[Sam Worthington, Zoe Saldana, Sigourney Weave...</td>\n",
       "      <td>[{\"credit_id\": \"52fe48009251416c750aca23\", \"de...</td>\n",
       "      <td>[Ingenious Film Partners, Twentieth Century Fo...</td>\n",
       "      <td>good</td>\n",
       "    </tr>\n",
       "    <tr>\n",
       "      <th>1</th>\n",
       "      <td>285</td>\n",
       "      <td>Pirates of the Caribbean: At World's End</td>\n",
       "      <td>Captain Barbossa, long believed to be dead, ha...</td>\n",
       "      <td>[Adventure, Fantasy, Action]</td>\n",
       "      <td>[ocean, drug abuse, exotic island, east india ...</td>\n",
       "      <td>[Johnny Depp, Orlando Bloom, Keira Knightley, ...</td>\n",
       "      <td>[{\"credit_id\": \"52fe4232c3a36847f800b579\", \"de...</td>\n",
       "      <td>[Walt Disney Pictures, Jerry Bruckheimer Films...</td>\n",
       "      <td>good</td>\n",
       "    </tr>\n",
       "    <tr>\n",
       "      <th>2</th>\n",
       "      <td>206647</td>\n",
       "      <td>Spectre</td>\n",
       "      <td>A cryptic message from Bond’s past sends him o...</td>\n",
       "      <td>[Action, Adventure, Crime]</td>\n",
       "      <td>[spy, based on novel, secret agent, sequel, mi...</td>\n",
       "      <td>[Daniel Craig, Christoph Waltz, Léa Seydoux, R...</td>\n",
       "      <td>[{\"credit_id\": \"54805967c3a36829b5002c41\", \"de...</td>\n",
       "      <td>[Columbia Pictures, Danjaq, B24]</td>\n",
       "      <td>good</td>\n",
       "    </tr>\n",
       "  </tbody>\n",
       "</table>\n",
       "</div>"
      ],
      "text/plain": [
       "   movie_id                                     title  \\\n",
       "0     19995                                    Avatar   \n",
       "1       285  Pirates of the Caribbean: At World's End   \n",
       "2    206647                                   Spectre   \n",
       "\n",
       "                                            overview  \\\n",
       "0  In the 22nd century, a paraplegic Marine is di...   \n",
       "1  Captain Barbossa, long believed to be dead, ha...   \n",
       "2  A cryptic message from Bond’s past sends him o...   \n",
       "\n",
       "                                          genres  \\\n",
       "0  [Action, Adventure, Fantasy, Science Fiction]   \n",
       "1                   [Adventure, Fantasy, Action]   \n",
       "2                     [Action, Adventure, Crime]   \n",
       "\n",
       "                                            keywords  \\\n",
       "0  [culture clash, future, space war, space colon...   \n",
       "1  [ocean, drug abuse, exotic island, east india ...   \n",
       "2  [spy, based on novel, secret agent, sequel, mi...   \n",
       "\n",
       "                                                cast  \\\n",
       "0  [Sam Worthington, Zoe Saldana, Sigourney Weave...   \n",
       "1  [Johnny Depp, Orlando Bloom, Keira Knightley, ...   \n",
       "2  [Daniel Craig, Christoph Waltz, Léa Seydoux, R...   \n",
       "\n",
       "                                                crew  \\\n",
       "0  [{\"credit_id\": \"52fe48009251416c750aca23\", \"de...   \n",
       "1  [{\"credit_id\": \"52fe4232c3a36847f800b579\", \"de...   \n",
       "2  [{\"credit_id\": \"54805967c3a36829b5002c41\", \"de...   \n",
       "\n",
       "                                production_companies vote_average  \n",
       "0  [Ingenious Film Partners, Twentieth Century Fo...         good  \n",
       "1  [Walt Disney Pictures, Jerry Bruckheimer Films...         good  \n",
       "2                   [Columbia Pictures, Danjaq, B24]         good  "
      ]
     },
     "execution_count": 34,
     "metadata": {},
     "output_type": "execute_result"
    }
   ],
   "source": [
    "movies.head(3)"
   ]
  },
  {
   "cell_type": "code",
   "execution_count": 35,
   "id": "d4fdc3db",
   "metadata": {
    "scrolled": false
   },
   "outputs": [
    {
     "name": "stdout",
     "output_type": "stream",
     "text": [
      "James Cameron\n"
     ]
    }
   ],
   "source": [
    "for i in ast.literal_eval(movies['crew'][0]):\n",
    "    if i['job']=='Director':\n",
    "        print(i['name'])"
   ]
  },
  {
   "cell_type": "code",
   "execution_count": 36,
   "id": "67382b7f",
   "metadata": {},
   "outputs": [],
   "source": [
    "# we are extracting only director\n",
    "# now for crew we are extracting job in which job is mentioned as director\n",
    "def fetch_director(obj):\n",
    "    L=[]\n",
    "    for i in ast.literal_eval(obj):\n",
    "        if i['job']=='Director':\n",
    "            L.append(i['name'])\n",
    "    return L"
   ]
  },
  {
   "cell_type": "code",
   "execution_count": 37,
   "id": "fdc61f32",
   "metadata": {},
   "outputs": [],
   "source": [
    "movies['crew']=movies['crew'].apply(fetch_director)"
   ]
  },
  {
   "cell_type": "code",
   "execution_count": 38,
   "id": "8287ac37",
   "metadata": {},
   "outputs": [
    {
     "data": {
      "text/html": [
       "<div>\n",
       "<style scoped>\n",
       "    .dataframe tbody tr th:only-of-type {\n",
       "        vertical-align: middle;\n",
       "    }\n",
       "\n",
       "    .dataframe tbody tr th {\n",
       "        vertical-align: top;\n",
       "    }\n",
       "\n",
       "    .dataframe thead th {\n",
       "        text-align: right;\n",
       "    }\n",
       "</style>\n",
       "<table border=\"1\" class=\"dataframe\">\n",
       "  <thead>\n",
       "    <tr style=\"text-align: right;\">\n",
       "      <th></th>\n",
       "      <th>movie_id</th>\n",
       "      <th>title</th>\n",
       "      <th>overview</th>\n",
       "      <th>genres</th>\n",
       "      <th>keywords</th>\n",
       "      <th>cast</th>\n",
       "      <th>crew</th>\n",
       "      <th>production_companies</th>\n",
       "      <th>vote_average</th>\n",
       "    </tr>\n",
       "  </thead>\n",
       "  <tbody>\n",
       "    <tr>\n",
       "      <th>0</th>\n",
       "      <td>19995</td>\n",
       "      <td>Avatar</td>\n",
       "      <td>In the 22nd century, a paraplegic Marine is di...</td>\n",
       "      <td>[Action, Adventure, Fantasy, Science Fiction]</td>\n",
       "      <td>[culture clash, future, space war, space colon...</td>\n",
       "      <td>[Sam Worthington, Zoe Saldana, Sigourney Weave...</td>\n",
       "      <td>[James Cameron]</td>\n",
       "      <td>[Ingenious Film Partners, Twentieth Century Fo...</td>\n",
       "      <td>good</td>\n",
       "    </tr>\n",
       "    <tr>\n",
       "      <th>1</th>\n",
       "      <td>285</td>\n",
       "      <td>Pirates of the Caribbean: At World's End</td>\n",
       "      <td>Captain Barbossa, long believed to be dead, ha...</td>\n",
       "      <td>[Adventure, Fantasy, Action]</td>\n",
       "      <td>[ocean, drug abuse, exotic island, east india ...</td>\n",
       "      <td>[Johnny Depp, Orlando Bloom, Keira Knightley, ...</td>\n",
       "      <td>[Gore Verbinski]</td>\n",
       "      <td>[Walt Disney Pictures, Jerry Bruckheimer Films...</td>\n",
       "      <td>good</td>\n",
       "    </tr>\n",
       "    <tr>\n",
       "      <th>2</th>\n",
       "      <td>206647</td>\n",
       "      <td>Spectre</td>\n",
       "      <td>A cryptic message from Bond’s past sends him o...</td>\n",
       "      <td>[Action, Adventure, Crime]</td>\n",
       "      <td>[spy, based on novel, secret agent, sequel, mi...</td>\n",
       "      <td>[Daniel Craig, Christoph Waltz, Léa Seydoux, R...</td>\n",
       "      <td>[Sam Mendes]</td>\n",
       "      <td>[Columbia Pictures, Danjaq, B24]</td>\n",
       "      <td>good</td>\n",
       "    </tr>\n",
       "  </tbody>\n",
       "</table>\n",
       "</div>"
      ],
      "text/plain": [
       "   movie_id                                     title  \\\n",
       "0     19995                                    Avatar   \n",
       "1       285  Pirates of the Caribbean: At World's End   \n",
       "2    206647                                   Spectre   \n",
       "\n",
       "                                            overview  \\\n",
       "0  In the 22nd century, a paraplegic Marine is di...   \n",
       "1  Captain Barbossa, long believed to be dead, ha...   \n",
       "2  A cryptic message from Bond’s past sends him o...   \n",
       "\n",
       "                                          genres  \\\n",
       "0  [Action, Adventure, Fantasy, Science Fiction]   \n",
       "1                   [Adventure, Fantasy, Action]   \n",
       "2                     [Action, Adventure, Crime]   \n",
       "\n",
       "                                            keywords  \\\n",
       "0  [culture clash, future, space war, space colon...   \n",
       "1  [ocean, drug abuse, exotic island, east india ...   \n",
       "2  [spy, based on novel, secret agent, sequel, mi...   \n",
       "\n",
       "                                                cast              crew  \\\n",
       "0  [Sam Worthington, Zoe Saldana, Sigourney Weave...   [James Cameron]   \n",
       "1  [Johnny Depp, Orlando Bloom, Keira Knightley, ...  [Gore Verbinski]   \n",
       "2  [Daniel Craig, Christoph Waltz, Léa Seydoux, R...      [Sam Mendes]   \n",
       "\n",
       "                                production_companies vote_average  \n",
       "0  [Ingenious Film Partners, Twentieth Century Fo...         good  \n",
       "1  [Walt Disney Pictures, Jerry Bruckheimer Films...         good  \n",
       "2                   [Columbia Pictures, Danjaq, B24]         good  "
      ]
     },
     "execution_count": 38,
     "metadata": {},
     "output_type": "execute_result"
    }
   ],
   "source": [
    "movies.head(3)"
   ]
  },
  {
   "cell_type": "code",
   "execution_count": 39,
   "id": "7369fb28",
   "metadata": {},
   "outputs": [
    {
     "data": {
      "text/plain": [
       "'In the 22nd century, a paraplegic Marine is dispatched to the moon Pandora on a unique mission, but becomes torn between following orders and protecting an alien civilization.'"
      ]
     },
     "execution_count": 39,
     "metadata": {},
     "output_type": "execute_result"
    }
   ],
   "source": [
    "# if we see the overview column it is in string so we are converting it in to the list\n",
    "movies['overview'][0]"
   ]
  },
  {
   "cell_type": "code",
   "execution_count": 40,
   "id": "23ec143c",
   "metadata": {},
   "outputs": [],
   "source": [
    "movies['overview']= movies['overview'].apply(lambda x:x.split())"
   ]
  },
  {
   "cell_type": "markdown",
   "id": "e5bf9b38",
   "metadata": {},
   "source": [
    "\n",
    "\n",
    "<font color=\"brown\" style=\"font-family:Cambria; font-size:16px\">we are doing some preprocessing on the certain columns to `remove the space` in words if they have like Sam Worthington because if they have space they act has a different entity like `sam` one another will be `Worthington` for example if you want to see the movies of `Sam Mendes` then if we not remove the space then it will create the `2 enites sam and another one is mendes `when you what to see `sam mendes movie` the model me confuses which sam because of white space.</font>\n",
    "<br>\n",
    "\n",
    "\n"
   ]
  },
  {
   "cell_type": "code",
   "execution_count": 41,
   "id": "9252451d",
   "metadata": {},
   "outputs": [],
   "source": [
    "movies['genres']=movies['genres'].apply(lambda x: [i.replace(' ','')for i in x])\n",
    "movies['keywords']=movies['keywords'].apply(lambda x: [i.replace(' ','')for i in x])\n",
    "movies['cast']=movies['cast'].apply(lambda x: [i.replace(' ','')for i in x])\n",
    "movies['crew']=movies['crew'].apply(lambda x: [i.replace(' ','')for i in x])\n",
    "movies['production_companies']=movies['production_companies'].apply(lambda x: [i.replace(' ','')for i in x])"
   ]
  },
  {
   "cell_type": "code",
   "execution_count": 42,
   "id": "c799415a",
   "metadata": {},
   "outputs": [
    {
     "data": {
      "text/html": [
       "<div>\n",
       "<style scoped>\n",
       "    .dataframe tbody tr th:only-of-type {\n",
       "        vertical-align: middle;\n",
       "    }\n",
       "\n",
       "    .dataframe tbody tr th {\n",
       "        vertical-align: top;\n",
       "    }\n",
       "\n",
       "    .dataframe thead th {\n",
       "        text-align: right;\n",
       "    }\n",
       "</style>\n",
       "<table border=\"1\" class=\"dataframe\">\n",
       "  <thead>\n",
       "    <tr style=\"text-align: right;\">\n",
       "      <th></th>\n",
       "      <th>movie_id</th>\n",
       "      <th>title</th>\n",
       "      <th>overview</th>\n",
       "      <th>genres</th>\n",
       "      <th>keywords</th>\n",
       "      <th>cast</th>\n",
       "      <th>crew</th>\n",
       "      <th>production_companies</th>\n",
       "      <th>vote_average</th>\n",
       "    </tr>\n",
       "  </thead>\n",
       "  <tbody>\n",
       "    <tr>\n",
       "      <th>0</th>\n",
       "      <td>19995</td>\n",
       "      <td>Avatar</td>\n",
       "      <td>[In, the, 22nd, century,, a, paraplegic, Marin...</td>\n",
       "      <td>[Action, Adventure, Fantasy, ScienceFiction]</td>\n",
       "      <td>[cultureclash, future, spacewar, spacecolony, ...</td>\n",
       "      <td>[SamWorthington, ZoeSaldana, SigourneyWeaver, ...</td>\n",
       "      <td>[JamesCameron]</td>\n",
       "      <td>[IngeniousFilmPartners, TwentiethCenturyFoxFil...</td>\n",
       "      <td>good</td>\n",
       "    </tr>\n",
       "    <tr>\n",
       "      <th>1</th>\n",
       "      <td>285</td>\n",
       "      <td>Pirates of the Caribbean: At World's End</td>\n",
       "      <td>[Captain, Barbossa,, long, believed, to, be, d...</td>\n",
       "      <td>[Adventure, Fantasy, Action]</td>\n",
       "      <td>[ocean, drugabuse, exoticisland, eastindiatrad...</td>\n",
       "      <td>[JohnnyDepp, OrlandoBloom, KeiraKnightley, Ste...</td>\n",
       "      <td>[GoreVerbinski]</td>\n",
       "      <td>[WaltDisneyPictures, JerryBruckheimerFilms, Se...</td>\n",
       "      <td>good</td>\n",
       "    </tr>\n",
       "    <tr>\n",
       "      <th>2</th>\n",
       "      <td>206647</td>\n",
       "      <td>Spectre</td>\n",
       "      <td>[A, cryptic, message, from, Bond’s, past, send...</td>\n",
       "      <td>[Action, Adventure, Crime]</td>\n",
       "      <td>[spy, basedonnovel, secretagent, sequel, mi6, ...</td>\n",
       "      <td>[DanielCraig, ChristophWaltz, LéaSeydoux, Ralp...</td>\n",
       "      <td>[SamMendes]</td>\n",
       "      <td>[ColumbiaPictures, Danjaq, B24]</td>\n",
       "      <td>good</td>\n",
       "    </tr>\n",
       "  </tbody>\n",
       "</table>\n",
       "</div>"
      ],
      "text/plain": [
       "   movie_id                                     title  \\\n",
       "0     19995                                    Avatar   \n",
       "1       285  Pirates of the Caribbean: At World's End   \n",
       "2    206647                                   Spectre   \n",
       "\n",
       "                                            overview  \\\n",
       "0  [In, the, 22nd, century,, a, paraplegic, Marin...   \n",
       "1  [Captain, Barbossa,, long, believed, to, be, d...   \n",
       "2  [A, cryptic, message, from, Bond’s, past, send...   \n",
       "\n",
       "                                         genres  \\\n",
       "0  [Action, Adventure, Fantasy, ScienceFiction]   \n",
       "1                  [Adventure, Fantasy, Action]   \n",
       "2                    [Action, Adventure, Crime]   \n",
       "\n",
       "                                            keywords  \\\n",
       "0  [cultureclash, future, spacewar, spacecolony, ...   \n",
       "1  [ocean, drugabuse, exoticisland, eastindiatrad...   \n",
       "2  [spy, basedonnovel, secretagent, sequel, mi6, ...   \n",
       "\n",
       "                                                cast             crew  \\\n",
       "0  [SamWorthington, ZoeSaldana, SigourneyWeaver, ...   [JamesCameron]   \n",
       "1  [JohnnyDepp, OrlandoBloom, KeiraKnightley, Ste...  [GoreVerbinski]   \n",
       "2  [DanielCraig, ChristophWaltz, LéaSeydoux, Ralp...      [SamMendes]   \n",
       "\n",
       "                                production_companies vote_average  \n",
       "0  [IngeniousFilmPartners, TwentiethCenturyFoxFil...         good  \n",
       "1  [WaltDisneyPictures, JerryBruckheimerFilms, Se...         good  \n",
       "2                    [ColumbiaPictures, Danjaq, B24]         good  "
      ]
     },
     "execution_count": 42,
     "metadata": {},
     "output_type": "execute_result"
    }
   ],
   "source": [
    "movies.head(3)"
   ]
  },
  {
   "cell_type": "code",
   "execution_count": 43,
   "id": "c782c9f0",
   "metadata": {},
   "outputs": [],
   "source": [
    "movies['vote_average']=movies['vote_average'].astype('str')"
   ]
  },
  {
   "cell_type": "code",
   "execution_count": 44,
   "id": "c3a90037",
   "metadata": {
    "scrolled": false
   },
   "outputs": [],
   "source": [
    "# converting it in to the list as you see the all columns are in list so we are splitting so they can easily concat \n",
    "movies['vote_average']=movies['vote_average'].apply(lambda x:x.split())"
   ]
  },
  {
   "cell_type": "code",
   "execution_count": 45,
   "id": "7b888111",
   "metadata": {},
   "outputs": [],
   "source": [
    "# creating a new column named tags by adding all the columns expect movie_id and title\n",
    "\n",
    "movies['tags']=movies['overview']+movies['genres']+movies['keywords']+movies['cast']+movies['crew']+movies['production_companies']+movies['vote_average']"
   ]
  },
  {
   "cell_type": "code",
   "execution_count": 46,
   "id": "312c1142",
   "metadata": {},
   "outputs": [
    {
     "name": "stdout",
     "output_type": "stream",
     "text": [
      "['In', 'the', '22nd', 'century,', 'a', 'paraplegic', 'Marine', 'is', 'dispatched', 'to', 'the', 'moon', 'Pandora', 'on', 'a', 'unique', 'mission,', 'but', 'becomes', 'torn', 'between', 'following', 'orders', 'and', 'protecting', 'an', 'alien', 'civilization.', 'Action', 'Adventure', 'Fantasy', 'ScienceFiction', 'cultureclash', 'future', 'spacewar', 'spacecolony', 'society', 'spacetravel', 'futuristic', 'romance', 'space', 'alien', 'tribe', 'alienplanet', 'cgi', 'marine', 'soldier', 'battle', 'loveaffair', 'antiwar', 'powerrelations', 'mindandsoul', '3d', 'SamWorthington', 'ZoeSaldana', 'SigourneyWeaver', 'StephenLang', 'MichelleRodriguez', 'JamesCameron', 'IngeniousFilmPartners', 'TwentiethCenturyFoxFilmCorporation', 'DuneEntertainment', 'LightstormEntertainment', 'good']\n"
     ]
    }
   ],
   "source": [
    "print(movies.iloc[0].tags)"
   ]
  },
  {
   "cell_type": "code",
   "execution_count": 47,
   "id": "f4c0e858",
   "metadata": {},
   "outputs": [],
   "source": [
    "# creating a new data fram taking only three columns named  movie_id, title and tags\n",
    "new_df=movies[['movie_id','title','tags']]\n"
   ]
  },
  {
   "cell_type": "code",
   "execution_count": 48,
   "id": "483ff728",
   "metadata": {},
   "outputs": [],
   "source": [
    "new_df['tags']=new_df['tags'].apply(lambda x:' '.join(x))"
   ]
  },
  {
   "cell_type": "code",
   "execution_count": 49,
   "id": "1257668c",
   "metadata": {},
   "outputs": [
    {
     "data": {
      "text/html": [
       "<div>\n",
       "<style scoped>\n",
       "    .dataframe tbody tr th:only-of-type {\n",
       "        vertical-align: middle;\n",
       "    }\n",
       "\n",
       "    .dataframe tbody tr th {\n",
       "        vertical-align: top;\n",
       "    }\n",
       "\n",
       "    .dataframe thead th {\n",
       "        text-align: right;\n",
       "    }\n",
       "</style>\n",
       "<table border=\"1\" class=\"dataframe\">\n",
       "  <thead>\n",
       "    <tr style=\"text-align: right;\">\n",
       "      <th></th>\n",
       "      <th>movie_id</th>\n",
       "      <th>title</th>\n",
       "      <th>tags</th>\n",
       "    </tr>\n",
       "  </thead>\n",
       "  <tbody>\n",
       "    <tr>\n",
       "      <th>0</th>\n",
       "      <td>19995</td>\n",
       "      <td>Avatar</td>\n",
       "      <td>In the 22nd century, a paraplegic Marine is di...</td>\n",
       "    </tr>\n",
       "    <tr>\n",
       "      <th>1</th>\n",
       "      <td>285</td>\n",
       "      <td>Pirates of the Caribbean: At World's End</td>\n",
       "      <td>Captain Barbossa, long believed to be dead, ha...</td>\n",
       "    </tr>\n",
       "    <tr>\n",
       "      <th>2</th>\n",
       "      <td>206647</td>\n",
       "      <td>Spectre</td>\n",
       "      <td>A cryptic message from Bond’s past sends him o...</td>\n",
       "    </tr>\n",
       "  </tbody>\n",
       "</table>\n",
       "</div>"
      ],
      "text/plain": [
       "   movie_id                                     title  \\\n",
       "0     19995                                    Avatar   \n",
       "1       285  Pirates of the Caribbean: At World's End   \n",
       "2    206647                                   Spectre   \n",
       "\n",
       "                                                tags  \n",
       "0  In the 22nd century, a paraplegic Marine is di...  \n",
       "1  Captain Barbossa, long believed to be dead, ha...  \n",
       "2  A cryptic message from Bond’s past sends him o...  "
      ]
     },
     "execution_count": 49,
     "metadata": {},
     "output_type": "execute_result"
    }
   ],
   "source": [
    "new_df.head(3)"
   ]
  },
  {
   "cell_type": "code",
   "execution_count": 50,
   "id": "91254475",
   "metadata": {},
   "outputs": [
    {
     "data": {
      "text/plain": [
       "\"The story of the love between Veer Pratap Singh, an Indian, and Zaara Hayaat Khan, a Pakistani...a love so great it knows no boundaries... Drama Romance loveofone'slife pilot classsociety pakistan india kashmirconflict ShahRukhKhan PreityZinta RaniMukerji AmitabhBachchan HemaMalini YashChopra YashRajFilms good\""
      ]
     },
     "execution_count": 50,
     "metadata": {},
     "output_type": "execute_result"
    }
   ],
   "source": [
    "new_df['tags'][3379]"
   ]
  },
  {
   "cell_type": "code",
   "execution_count": 51,
   "id": "e255383c",
   "metadata": {},
   "outputs": [
    {
     "data": {
      "text/html": [
       "<div>\n",
       "<style scoped>\n",
       "    .dataframe tbody tr th:only-of-type {\n",
       "        vertical-align: middle;\n",
       "    }\n",
       "\n",
       "    .dataframe tbody tr th {\n",
       "        vertical-align: top;\n",
       "    }\n",
       "\n",
       "    .dataframe thead th {\n",
       "        text-align: right;\n",
       "    }\n",
       "</style>\n",
       "<table border=\"1\" class=\"dataframe\">\n",
       "  <thead>\n",
       "    <tr style=\"text-align: right;\">\n",
       "      <th></th>\n",
       "      <th>movie_id</th>\n",
       "      <th>title</th>\n",
       "      <th>overview</th>\n",
       "      <th>genres</th>\n",
       "      <th>keywords</th>\n",
       "      <th>cast</th>\n",
       "      <th>crew</th>\n",
       "      <th>production_companies</th>\n",
       "      <th>vote_average</th>\n",
       "      <th>tags</th>\n",
       "    </tr>\n",
       "  </thead>\n",
       "  <tbody>\n",
       "    <tr>\n",
       "      <th>3379</th>\n",
       "      <td>4251</td>\n",
       "      <td>Veer-Zaara</td>\n",
       "      <td>[The, story, of, the, love, between, Veer, Pra...</td>\n",
       "      <td>[Drama, Romance]</td>\n",
       "      <td>[loveofone'slife, pilot, classsociety, pakista...</td>\n",
       "      <td>[ShahRukhKhan, PreityZinta, RaniMukerji, Amita...</td>\n",
       "      <td>[YashChopra]</td>\n",
       "      <td>[YashRajFilms]</td>\n",
       "      <td>[good]</td>\n",
       "      <td>[The, story, of, the, love, between, Veer, Pra...</td>\n",
       "    </tr>\n",
       "  </tbody>\n",
       "</table>\n",
       "</div>"
      ],
      "text/plain": [
       "      movie_id       title                                           overview  \\\n",
       "3379      4251  Veer-Zaara  [The, story, of, the, love, between, Veer, Pra...   \n",
       "\n",
       "                genres                                           keywords  \\\n",
       "3379  [Drama, Romance]  [loveofone'slife, pilot, classsociety, pakista...   \n",
       "\n",
       "                                                   cast          crew  \\\n",
       "3379  [ShahRukhKhan, PreityZinta, RaniMukerji, Amita...  [YashChopra]   \n",
       "\n",
       "     production_companies vote_average  \\\n",
       "3379       [YashRajFilms]       [good]   \n",
       "\n",
       "                                                   tags  \n",
       "3379  [The, story, of, the, love, between, Veer, Pra...  "
      ]
     },
     "execution_count": 51,
     "metadata": {},
     "output_type": "execute_result"
    }
   ],
   "source": [
    "movies[new_df['title']=='Veer-Zaara']"
   ]
  },
  {
   "cell_type": "code",
   "execution_count": 52,
   "id": "8811855f",
   "metadata": {},
   "outputs": [],
   "source": [
    "# converting tags in to the lower case\n",
    "new_df['tags']=new_df['tags'].apply(lambda x : x.lower())"
   ]
  },
  {
   "cell_type": "code",
   "execution_count": 53,
   "id": "d62a9b93",
   "metadata": {},
   "outputs": [
    {
     "data": {
      "text/html": [
       "<div>\n",
       "<style scoped>\n",
       "    .dataframe tbody tr th:only-of-type {\n",
       "        vertical-align: middle;\n",
       "    }\n",
       "\n",
       "    .dataframe tbody tr th {\n",
       "        vertical-align: top;\n",
       "    }\n",
       "\n",
       "    .dataframe thead th {\n",
       "        text-align: right;\n",
       "    }\n",
       "</style>\n",
       "<table border=\"1\" class=\"dataframe\">\n",
       "  <thead>\n",
       "    <tr style=\"text-align: right;\">\n",
       "      <th></th>\n",
       "      <th>movie_id</th>\n",
       "      <th>title</th>\n",
       "      <th>tags</th>\n",
       "    </tr>\n",
       "  </thead>\n",
       "  <tbody>\n",
       "    <tr>\n",
       "      <th>0</th>\n",
       "      <td>19995</td>\n",
       "      <td>Avatar</td>\n",
       "      <td>in the 22nd century, a paraplegic marine is di...</td>\n",
       "    </tr>\n",
       "    <tr>\n",
       "      <th>1</th>\n",
       "      <td>285</td>\n",
       "      <td>Pirates of the Caribbean: At World's End</td>\n",
       "      <td>captain barbossa, long believed to be dead, ha...</td>\n",
       "    </tr>\n",
       "    <tr>\n",
       "      <th>2</th>\n",
       "      <td>206647</td>\n",
       "      <td>Spectre</td>\n",
       "      <td>a cryptic message from bond’s past sends him o...</td>\n",
       "    </tr>\n",
       "    <tr>\n",
       "      <th>3</th>\n",
       "      <td>49026</td>\n",
       "      <td>The Dark Knight Rises</td>\n",
       "      <td>following the death of district attorney harve...</td>\n",
       "    </tr>\n",
       "    <tr>\n",
       "      <th>4</th>\n",
       "      <td>49529</td>\n",
       "      <td>John Carter</td>\n",
       "      <td>john carter is a war-weary, former military ca...</td>\n",
       "    </tr>\n",
       "    <tr>\n",
       "      <th>...</th>\n",
       "      <td>...</td>\n",
       "      <td>...</td>\n",
       "      <td>...</td>\n",
       "    </tr>\n",
       "    <tr>\n",
       "      <th>4804</th>\n",
       "      <td>9367</td>\n",
       "      <td>El Mariachi</td>\n",
       "      <td>el mariachi just wants to play his guitar and ...</td>\n",
       "    </tr>\n",
       "    <tr>\n",
       "      <th>4805</th>\n",
       "      <td>72766</td>\n",
       "      <td>Newlyweds</td>\n",
       "      <td>a newlywed couple's honeymoon is upended by th...</td>\n",
       "    </tr>\n",
       "    <tr>\n",
       "      <th>4806</th>\n",
       "      <td>231617</td>\n",
       "      <td>Signed, Sealed, Delivered</td>\n",
       "      <td>\"signed, sealed, delivered\" introduces a dedic...</td>\n",
       "    </tr>\n",
       "    <tr>\n",
       "      <th>4807</th>\n",
       "      <td>126186</td>\n",
       "      <td>Shanghai Calling</td>\n",
       "      <td>when ambitious new york attorney sam is sent t...</td>\n",
       "    </tr>\n",
       "    <tr>\n",
       "      <th>4808</th>\n",
       "      <td>25975</td>\n",
       "      <td>My Date with Drew</td>\n",
       "      <td>ever since the second grade when he first saw ...</td>\n",
       "    </tr>\n",
       "  </tbody>\n",
       "</table>\n",
       "<p>4806 rows × 3 columns</p>\n",
       "</div>"
      ],
      "text/plain": [
       "      movie_id                                     title  \\\n",
       "0        19995                                    Avatar   \n",
       "1          285  Pirates of the Caribbean: At World's End   \n",
       "2       206647                                   Spectre   \n",
       "3        49026                     The Dark Knight Rises   \n",
       "4        49529                               John Carter   \n",
       "...        ...                                       ...   \n",
       "4804      9367                               El Mariachi   \n",
       "4805     72766                                 Newlyweds   \n",
       "4806    231617                 Signed, Sealed, Delivered   \n",
       "4807    126186                          Shanghai Calling   \n",
       "4808     25975                         My Date with Drew   \n",
       "\n",
       "                                                   tags  \n",
       "0     in the 22nd century, a paraplegic marine is di...  \n",
       "1     captain barbossa, long believed to be dead, ha...  \n",
       "2     a cryptic message from bond’s past sends him o...  \n",
       "3     following the death of district attorney harve...  \n",
       "4     john carter is a war-weary, former military ca...  \n",
       "...                                                 ...  \n",
       "4804  el mariachi just wants to play his guitar and ...  \n",
       "4805  a newlywed couple's honeymoon is upended by th...  \n",
       "4806  \"signed, sealed, delivered\" introduces a dedic...  \n",
       "4807  when ambitious new york attorney sam is sent t...  \n",
       "4808  ever since the second grade when he first saw ...  \n",
       "\n",
       "[4806 rows x 3 columns]"
      ]
     },
     "execution_count": 53,
     "metadata": {},
     "output_type": "execute_result"
    }
   ],
   "source": [
    "new_df"
   ]
  },
  {
   "cell_type": "markdown",
   "id": "9e2692ed",
   "metadata": {},
   "source": [
    "#### Using TF-idf Vectorization"
   ]
  },
  {
   "cell_type": "code",
   "execution_count": 54,
   "id": "9dc9ba24",
   "metadata": {},
   "outputs": [],
   "source": [
    "from sklearn.feature_extraction.text import CountVectorizer,TfidfVectorizer\n",
    "# tf=TfidfVectorizer(max_features=4500,stop_words='english')"
   ]
  },
  {
   "cell_type": "code",
   "execution_count": 55,
   "id": "2b72c648",
   "metadata": {},
   "outputs": [],
   "source": [
    "# cv=CountVectorizer(max_features=5000,stop_words='english')"
   ]
  },
  {
   "cell_type": "code",
   "execution_count": 56,
   "id": "cc14ccd1",
   "metadata": {},
   "outputs": [],
   "source": [
    "# cv.fit_transform(new_df['tags']).toarray()"
   ]
  },
  {
   "cell_type": "code",
   "execution_count": 57,
   "id": "4aae7242",
   "metadata": {},
   "outputs": [],
   "source": [
    "# print('the shape is ',cv.fit_transform(new_df['tags']).toarray().shape)\n",
    "# print('the shape is ',tf.fit_transform(new_df['tags']).toarray().shape)"
   ]
  },
  {
   "cell_type": "code",
   "execution_count": 58,
   "id": "231a246c",
   "metadata": {},
   "outputs": [],
   "source": [
    "# vectors=cv.fit_transform(new_df['tags']).toarray()\n",
    "# vectors=tf.fit_transform(new_df['tags']).toarray()\n"
   ]
  },
  {
   "cell_type": "code",
   "execution_count": 59,
   "id": "11f39cf0",
   "metadata": {},
   "outputs": [],
   "source": [
    "# vectors"
   ]
  },
  {
   "cell_type": "code",
   "execution_count": 60,
   "id": "6a82902f",
   "metadata": {},
   "outputs": [],
   "source": [
    "# print(tf.get_feature_names_out()[170:250])"
   ]
  },
  {
   "cell_type": "markdown",
   "id": "debaa64e",
   "metadata": {},
   "source": [
    "<b><font color='#067F7D' style='font-family:cambria; font-size:20px'>Stemming</font></b><br>\n",
    "\n",
    " - <font color=\"brown\" style=\"font-family:Cambria; font-size:16px\">`Stemming `is a process in natural language processing (NLP) and `text mining` where the inflected forms of a `word are reduced to their base or root form`. The goal of stemming is to group together different forms of a word so they can be analyzed as a `single item`. This is especially useful in information retrieval and text processing tasks, where variations of a word (e.g., `\"running\", \"runner\", \"ran\"`) should be treated as the `same word (\"run\").`</font><br>\n",
    " \n",
    "   - <font color=\"brown\" style=\"font-family:Cambria; font-size:16px\">Here's an example to illustrate stemming:</font>\n",
    "   - <font color=\"brown\" style=\"font-family:Cambria; font-size:16px\">`Words`: \"running\", \"runner\", \"ran\" `Stemmed form`: \"run\"</font>\n",
    "<br>\n",
    "<font color=\"brown\" style=\"font-family:Cambria; font-size:16px\">Common Stemming Algorithms:</font>\n",
    "\n",
    "\n",
    " - <font color=\"brown\" style=\"font-family:Cambria; font-size:16px\">`Porter Stemmer`: One of the oldest and most widely used stemming algorithms, developed by Martin Porter in 1980. It uses a set of rules to remove common suffixes from English words.</font>\n",
    "<br>\n",
    "\n",
    "  - <font color=\"brown\" style=\"font-family:Cambria; font-size:16px\">`Snowball Stemmer`: An improvement over the Porter Stemmer, also developed by Martin Porter. It offers more flexibility and better performance.</font>\n",
    "<br>\n",
    "\n",
    "  - <font color=\"brown\" style=\"font-family:Cambria; font-size:16px\">`Lancaster Stemme`r: A more aggressive stemming algorithm that sometimes results in stems that are not actual words. It's faster but can be less accurate due to its aggressive nature.</font>\n",
    "<br>\n",
    "\n"
   ]
  },
  {
   "cell_type": "code",
   "execution_count": 55,
   "id": "9b221828",
   "metadata": {},
   "outputs": [],
   "source": [
    "from nltk.stem.porter import PorterStemmer"
   ]
  },
  {
   "cell_type": "code",
   "execution_count": 56,
   "id": "9cc02789",
   "metadata": {},
   "outputs": [],
   "source": [
    "ps=PorterStemmer()"
   ]
  },
  {
   "cell_type": "code",
   "execution_count": null,
   "id": "08fa5be6",
   "metadata": {},
   "outputs": [],
   "source": [
    "# writting a function and itetrating them and apply porter stemmer\n",
    "# def stem(text):\n",
    "#     y=[]\n",
    "#     for i in text.split():\n",
    "#         y.append(ps.stem(i))\n",
    "#     return ' '.join(y)"
   ]
  },
  {
   "cell_type": "code",
   "execution_count": 60,
   "id": "ce3276da",
   "metadata": {},
   "outputs": [],
   "source": [
    "import nltk\n",
    "import re"
   ]
  },
  {
   "cell_type": "code",
   "execution_count": 61,
   "id": "d24acbed",
   "metadata": {},
   "outputs": [],
   "source": [
    "def stemming_tokenizer(text):\n",
    "    text = text.lower()\n",
    "    \n",
    "    # Remove punctuation\n",
    "    text = re.sub(r'[^\\w\\s]', '', text)\n",
    "    tokens = nltk.word_tokenize(text)\n",
    "    stemmed_tokens = [ps.stem(token) for token in tokens]\n",
    "    return stemmed_tokens"
   ]
  },
  {
   "cell_type": "markdown",
   "id": "715f5c80",
   "metadata": {},
   "source": [
    "#### See how the stemming is working compare both text like `story,romanc`\n",
    "\"The story of the love between Veer Pratap Singh, an Indian, and Zaara Hayaat Khan, a Pakistani...a love so great it knows no boundaries... Drama Romance loveofone'slife pilot classsociety pakistan india kashmirconflict ShahRukhKhan PreityZinta RaniMukerji YashChopra\""
   ]
  },
  {
   "cell_type": "code",
   "execution_count": 62,
   "id": "c00c6621",
   "metadata": {},
   "outputs": [
    {
     "data": {
      "text/plain": [
       "['the',\n",
       " 'stori',\n",
       " 'of',\n",
       " 'the',\n",
       " 'love',\n",
       " 'between',\n",
       " 'veer',\n",
       " 'pratap',\n",
       " 'singh',\n",
       " 'an',\n",
       " 'indian',\n",
       " 'and',\n",
       " 'zaara',\n",
       " 'hayaat',\n",
       " 'khan',\n",
       " 'a',\n",
       " 'pakistania',\n",
       " 'love',\n",
       " 'so',\n",
       " 'great',\n",
       " 'it',\n",
       " 'know',\n",
       " 'no',\n",
       " 'boundari',\n",
       " 'drama',\n",
       " 'romanc',\n",
       " 'loveofoneslif',\n",
       " 'pilot',\n",
       " 'classsocieti',\n",
       " 'pakistan',\n",
       " 'india',\n",
       " 'kashmirconflict',\n",
       " 'shahrukhkhan',\n",
       " 'preityzinta',\n",
       " 'ranimukerji',\n",
       " 'amitabhbachchan',\n",
       " 'hemamalini',\n",
       " 'yashchopra',\n",
       " 'yashrajfilm',\n",
       " 'good']"
      ]
     },
     "execution_count": 62,
     "metadata": {},
     "output_type": "execute_result"
    }
   ],
   "source": [
    "stemming_tokenizer(\"The story of the love between Veer Pratap Singh, an Indian, and Zaara Hayaat Khan, a Pakistani...a love so great it knows no boundaries... Drama Romance loveofone'slife pilot classsociety pakistan india kashmirconflict ShahRukhKhan PreityZinta RaniMukerji AmitabhBachchan HemaMalini YashChopra YashRajFilms good\")"
   ]
  },
  {
   "cell_type": "code",
   "execution_count": 63,
   "id": "e49f7d24",
   "metadata": {},
   "outputs": [],
   "source": [
    "# now aplying on the whole column \n",
    "# new_df['tags']=new_df['tags'].apply(stem)"
   ]
  },
  {
   "cell_type": "markdown",
   "id": "e5ee9ae1",
   "metadata": {},
   "source": [
    "<font color=\"black\" style=\"font-family:Cambria; font-size:20px\">TF-IDF (Term Frequency-Inverse Document Frequency) Vectorization:</font>\n",
    "- <font color=\"brown\" style=\"font-family:Cambria; font-size:16px\">`TF (Term Frequency)`: TF measures how frequently a term (word) appears in a document relative to the total number of words in that document. It reflects how important a term is to a document.</font>\n",
    "  - <font color=\"brown\" style=\"font-family:Cambria; font-size:16px\">TF counts how often a word appears in a specific book compared to the total number of words in that book.</font>\n",
    "<br>\n",
    "  - <font color=\"brown\" style=\"font-family:Cambria; font-size:16px\">`Example`: In a book about dragons, the word \"dragon\" appears 10 times out of 100 words. So, TF for \"dragon\" in that book is 10/100 = 0.1.</font>\n",
    " <br>\n",
    "\n",
    "- <font color=\"brown\" style=\"font-family:Cambria; font-size:16px\"><b>`IDF (Inverse Document Frequency)`:</b> IDF measures how important a term is across the entire corpus (collection of documents). Terms that occur frequently across many documents are less informative.</font>\n",
    "  - <font color=\"brown\" style=\"font-family:Cambria; font-size:16px\">IDF measures how important a word is across all the books in your library.</font>\n",
    "<br>\n",
    "  - <font color=\"brown\" style=\"font-family:Cambria; font-size:16px\">`Example`: The word \"dragon\" appears in all five books, but it's more common in books about fantasy creatures. So, IDF for \"dragon\" might be lower because it’s not rare.</font>\n",
    " <br>\n",
    "\n",
    "<font color=\"brown\" style=\"font-family:Cambria; font-size:16px\"><b>`TF-IDF Vectorization`:</b> TF-IDF combines TF and IDF to transform text documents into numerical vectors. Each document is represented by a vector where each dimension corresponds to a term, and the value represents the TF-IDF score of that term in the document.</font>\n",
    "    <ul>\n",
    "      <li><font color=\"black\" style=\"font-family:Cambria; font-size:16px\">Tokenization: Breaking text into individual words or terms (tokens).</font></li>\n",
    "      <li><font color=\"black\" style=\"font-family:Cambria; font-size:16px\">Counting Term Frequencies: Counting the occurrences of each term in each document.</font></li>\n",
    "      <li><font color=\"black\" style=\"font-family:Cambria; font-size:16px\">Calculating TF: Calculating the TF for each term in each document.</font></li>\n",
    "      <li><font color=\"black\" style=\"font-family:Cambria; font-size:16px\">Calculating IDF: Calculating the IDF for each term across the entire corpus.</font></li>\n",
    "      <li><font color=\"black\" style=\"font-family:Cambria; font-size:16px\">Calculating TF-IDF: Multiplying TF by IDF to get the TF-IDF score for each term in each document.</font></li>\n",
    "      <li><font color=\"black\" style=\"font-family:Cambria; font-size:16px\">Normalization: Optionally, normalizing the TF-IDF vectors to unit length.</font></li>\n",
    "    </ul>\n",
    "  </li>\n",
    "</ul>\n",
    "\n",
    "<font color=\"black\" style=\"font-family:Cambria; font-size:16px\">Use Cases:</font>\n",
    "\n",
    "<ul>\n",
    "  <li><font color=\"brown\" style=\"font-family:Cambria; font-size:16px\">Information Retrieval: To find relevant documents matching a user query.</font></li>\n",
    "  <li><font color=\"brown\" style=\"font-family:Cambria; font-size:16px\">Keyword Extraction: To identify important terms in a document.</font></li>\n",
    "  <li><font color=\"brown\" style=\"font-family:Cambria; font-size:16px\">Text Summarization: To rank sentences or paragraphs based on importance.</font></li>\n",
    "  <li><font color=\"brown\" style=\"font-family:Cambria; font-size:16px\">Document Clustering: To group similar documents based on their content.</font></li>\n",
    "</ul>\n",
    "\n",
    "<font color=\"black\" style=\"font-family:Cambria; font-size:16px\">Benefits:</font>\n",
    "\n",
    "<ul>\n",
    "  <li><font color=\"brown\" style=\"font-family:Cambria; font-size:16px\">Importance Weighing: Highlights important terms that are frequent in a document but rare in the entire corpus.</font></li>\n",
    "  <li><font color=\"brown\" style=\"font-family:Cambria; font-size:16px\">Dimensionality Reduction: Reduces the dimensionality of the feature space compared to simpler techniques.</font></li>\n",
    "  <li><font color=\"brown\" style=\"font-family:Cambria; font-size:16px\">Language Independence: Can be applied to any language with a suitable tokenizer.</font></li>\n",
    "</ul>\n",
    "\n",
    "<font color=\"brown\" style=\"font-family:verdana; font-size:16px\">In summary, TF-IDF vectorization is a powerful technique in natural language processing for representing text documents numerically while emphasizing the significance of terms based on their frequency and rarity across a corpus.</font>\n"
   ]
  },
  {
   "cell_type": "code",
   "execution_count": 64,
   "id": "b45a2dfb",
   "metadata": {},
   "outputs": [],
   "source": [
    "\n",
    "tf=TfidfVectorizer(max_features=4500,stop_words='english',tokenizer=stemming_tokenizer)"
   ]
  },
  {
   "cell_type": "code",
   "execution_count": 65,
   "id": "7fcd9abf",
   "metadata": {},
   "outputs": [
    {
     "name": "stdout",
     "output_type": "stream",
     "text": [
      "the shape is  (4806, 4500)\n"
     ]
    }
   ],
   "source": [
    "# print('the shape is ',cv.fit_transform(new_df['tags']).toarray().shape)\n",
    "print('the shape is ',tf.fit_transform(new_df['tags']).toarray().shape)"
   ]
  },
  {
   "cell_type": "code",
   "execution_count": 66,
   "id": "db628499",
   "metadata": {},
   "outputs": [],
   "source": [
    "# vectors=cv.fit_transform(new_df['tags']).toarray()\n",
    "vectors=tf.fit_transform(new_df['tags']).toarray()\n",
    "\n"
   ]
  },
  {
   "cell_type": "code",
   "execution_count": 67,
   "id": "af5401a7",
   "metadata": {},
   "outputs": [
    {
     "name": "stdout",
     "output_type": "stream",
     "text": [
      "['amandaseyfri' 'amateur' 'amaz' 'ambassador' 'ambit' 'ambiti'\n",
      " 'amblinentertain' 'ambul' 'ambush' 'america' 'american' 'americanfootbal'\n",
      " 'americanzoetrop' 'ami' 'amid' 'amidst' 'amnesia' 'amp' 'amus'\n",
      " 'amusementpark' 'amyadam' 'amysmart' 'analyst' 'anarchiccomedi' 'ancient'\n",
      " 'ancientrom' 'ancientworld' 'anderson' 'andi' 'andiemacdowel' 'andrew'\n",
      " 'android' 'andygarcía' 'andyserki' 'angel' 'angelabassett' 'angelinajoli'\n",
      " 'anger' 'angri' 'ani' 'anim' 'animalattack' 'animalhorror'\n",
      " 'anjelicahuston' 'ann' 'anna' 'annafari' 'annakendrick' 'annapurnapictur'\n",
      " 'annasophiarobb' 'annehathaway' 'annehech' 'annetteben' 'anni'\n",
      " 'anniversari' 'announc' 'annual' 'anonym' 'anonymouscont' 'anoth'\n",
      " 'answer' 'antholog' 'anthoni' 'anthonyanderson' 'anthonyhopkin'\n",
      " 'anthonymacki' 'anthropomorph' 'antic' 'antihero' 'antisemit'\n",
      " 'antoniobandera' 'antonyelchin' 'anyon' 'anyth' 'apart' 'apartheid'\n",
      " 'apatowproduct' 'ape' 'apocalyps' 'appar']\n"
     ]
    }
   ],
   "source": [
    "# as you see no words are reppeating there root form\n",
    "print(tf.get_feature_names_out()[170:250])"
   ]
  },
  {
   "cell_type": "markdown",
   "id": "a15b9598",
   "metadata": {},
   "source": [
    "<font color=\"black\"><h5>In some cases, cosine similarity is more appropriate than Euclidean distance for measuring the similarity between vectors, especially in high-dimensional spaces or with sparse data. Here's an explanation of why cosine similarity can be a better choice in certain scenarios:</h5></font>\n",
    "\n",
    "<font color=\"black\"><h4>Euclidean Distance</h4></font>\n",
    "<ul>\n",
    "  <li><b>Definition:</b> Euclidean distance measures the straight-line distance between two points in a multi-dimensional space.</li>\n",
    "  <li><b>Use Case:</b> Euclidean distance is suitable when the magnitude of the vectors matters and when the data points are dense and have meaningful geometric interpretations.</li>\n",
    "  <li><b>Limitations:</b>\n",
    "    <ul>\n",
    "      <li>Magnitude Sensitivity: Euclidean distance is sensitive to the magnitude of the vectors. If two vectors are pointing in the same direction but have different magnitudes, the Euclidean distance will be large.</li>\n",
    "      <li>High Dimensionality: In high-dimensional spaces, Euclidean distance can become less meaningful due to the \"curse of dimensionality\".</li>\n",
    "    </ul>\n",
    "  </li>\n",
    "</ul>\n",
    "\n",
    "<font color=\"black\"><h4>Cosine Similarity</h4></font>\n",
    "<ul>\n",
    "  <li><b>Definition:</b> Cosine similarity measures the cosine of the angle between two vectors. It focuses on the orientation rather than the magnitude of the vectors.</li>\n",
    "  <li><b>Use Case:</b> Cosine similarity is particularly useful when the magnitude of the vectors is not important, but the direction is. It is often used in text mining, information retrieval, and document similarity.</li>\n",
    "  <li><b>Advantages:</b>\n",
    "    <ul>\n",
    "      <li>Magnitude Invariance: Cosine similarity is invariant to the magnitude of the vectors, making it more suitable for high-dimensional and sparse data.</li>\n",
    "      <li>Normalized Space: It measures the angle between vectors, providing a measure of direction rather than distance.</li>\n",
    "    </ul>\n",
    "  </li>\n",
    "</ul>\n",
    "\n",
    "<font color=\"black\"><h4>When to Use Cosine Similarity</h4></font>\n",
    "<ul>\n",
    "  <li><b>Text Data:</b> When comparing documents represented as TF-IDF vectors or word embeddings, where the frequency or presence of terms matters more than their absolute count.</li>\n",
    "  <li><b>High-Dimensional Data:</b> When dealing with data in very high-dimensional spaces where Euclidean distance can become less effective.</li>\n",
    "  <li><b>Sparse Data:</b> When data contains many zeros, as is often the case in text analysis or recommendation systems.</li>\n",
    "</ul>\n",
    "\n",
    "<font color=\"black\"><p><b>Cosine similarity can be a better choice than Euclidean distance in scenarios where the direction of vectors is more important than their magnitude, such as in text mining and high-dimensional data analysis.</b></p></font>\n"
   ]
  },
  {
   "cell_type": "code",
   "execution_count": 68,
   "id": "64748379",
   "metadata": {},
   "outputs": [],
   "source": [
    "# so we are using the cosin similirty \n",
    "from sklearn.metrics.pairwise import cosine_similarity"
   ]
  },
  {
   "cell_type": "code",
   "execution_count": 69,
   "id": "b768e0d3",
   "metadata": {},
   "outputs": [
    {
     "data": {
      "text/plain": [
       "array([[1.        , 0.02353933, 0.03227597, ..., 0.04786948, 0.00617681,\n",
       "        0.00192822],\n",
       "       [0.02353933, 1.        , 0.01468775, ..., 0.01879901, 0.        ,\n",
       "        0.0081162 ],\n",
       "       [0.03227597, 0.01468775, 1.        , ..., 0.02497005, 0.        ,\n",
       "        0.00208823],\n",
       "       ...,\n",
       "       [0.04786948, 0.01879901, 0.02497005, ..., 1.        , 0.01733707,\n",
       "        0.02082489],\n",
       "       [0.00617681, 0.        , 0.        , ..., 0.01733707, 1.        ,\n",
       "        0.01269076],\n",
       "       [0.00192822, 0.0081162 , 0.00208823, ..., 0.02082489, 0.01269076,\n",
       "        1.        ]])"
      ]
     },
     "execution_count": 69,
     "metadata": {},
     "output_type": "execute_result"
    }
   ],
   "source": [
    "cosine_similarity(vectors)"
   ]
  },
  {
   "cell_type": "code",
   "execution_count": 70,
   "id": "f559d692",
   "metadata": {},
   "outputs": [
    {
     "name": "stdout",
     "output_type": "stream",
     "text": [
      "THE Shape of the cosine is (4806, 4806)\n"
     ]
    }
   ],
   "source": [
    "# calculate the distance of first movie from 4806 distance\n",
    "# calculate the distance of second movie from 4806 distance\n",
    "# calculate the distance of third movie from 4806 distance\n",
    "# calculate the distance of forth movie from 4806 distance\n",
    "# ....\n",
    "# calculate the distance of 4806 movie from 4806 distance\n",
    "\n",
    "\n",
    "print(f'THE Shape of the cosine is {cosine_similarity(vectors).shape}')"
   ]
  },
  {
   "cell_type": "code",
   "execution_count": 71,
   "id": "7d5e500b",
   "metadata": {},
   "outputs": [],
   "source": [
    "similarity=cosine_similarity(vectors)"
   ]
  },
  {
   "cell_type": "code",
   "execution_count": 72,
   "id": "b79cf093",
   "metadata": {},
   "outputs": [
    {
     "data": {
      "text/plain": [
       "4606"
      ]
     },
     "execution_count": 72,
     "metadata": {},
     "output_type": "execute_result"
    }
   ],
   "source": [
    "new_df[new_df['title']=='51 Birch Street'].index[0]"
   ]
  },
  {
   "cell_type": "code",
   "execution_count": 73,
   "id": "7fd9f271",
   "metadata": {},
   "outputs": [
    {
     "data": {
      "text/plain": [
       "[(2409, 0.21625919227729304),\n",
       " (778, 0.1969745425941945),\n",
       " (539, 0.1728734749761968),\n",
       " (3608, 0.17260513643870948),\n",
       " (1216, 0.16982460678384623)]"
      ]
     },
     "execution_count": 73,
     "metadata": {},
     "output_type": "execute_result"
    }
   ],
   "source": [
    "sorted(list(enumerate(similarity[0])),reverse=True,key=lambda x:x[1])[1:6]"
   ]
  },
  {
   "cell_type": "code",
   "execution_count": 74,
   "id": "08a07e0a",
   "metadata": {},
   "outputs": [],
   "source": [
    "def recommend(movie):\n",
    "    movie_index=new_df[new_df['title']==movie].index[0]\n",
    "    distance=similarity[movie_index]\n",
    "    movies_list=sorted(list(enumerate(distance)),reverse=True,key=lambda x:x[1])[1:6]\n",
    "    \n",
    "    for i in movies_list:\n",
    "        print(new_df.iloc[i[0]].title)"
   ]
  },
  {
   "cell_type": "code",
   "execution_count": 75,
   "id": "241c76ad",
   "metadata": {},
   "outputs": [
    {
     "name": "stdout",
     "output_type": "stream",
     "text": [
      "Iron Man 2\n",
      "Iron Man 3\n",
      "Avengers: Age of Ultron\n",
      "Ant-Man\n",
      "Captain America: Civil War\n"
     ]
    }
   ],
   "source": [
    "recommend('Iron Man')"
   ]
  },
  {
   "cell_type": "markdown",
   "id": "64b88f5a",
   "metadata": {},
   "source": [
    "#### To want the pickle file uncomment it "
   ]
  },
  {
   "cell_type": "code",
   "execution_count": 76,
   "id": "77a36e38",
   "metadata": {},
   "outputs": [],
   "source": [
    "import pickle"
   ]
  },
  {
   "cell_type": "code",
   "execution_count": 77,
   "id": "3071289a",
   "metadata": {},
   "outputs": [],
   "source": [
    "# pickle.dump(new_df.to_dict(),open('movie_dict_copy.pk','wb'))"
   ]
  },
  {
   "cell_type": "code",
   "execution_count": 78,
   "id": "935c8f99",
   "metadata": {},
   "outputs": [],
   "source": [
    "# pickle.dump(similarity,open('similarity_copy.pk','wb'))"
   ]
  },
  {
   "cell_type": "code",
   "execution_count": null,
   "id": "e7f741d9",
   "metadata": {},
   "outputs": [],
   "source": []
  }
 ],
 "metadata": {
  "kernelspec": {
   "display_name": "Python 3 (ipykernel)",
   "language": "python",
   "name": "python3"
  },
  "language_info": {
   "codemirror_mode": {
    "name": "ipython",
    "version": 3
   },
   "file_extension": ".py",
   "mimetype": "text/x-python",
   "name": "python",
   "nbconvert_exporter": "python",
   "pygments_lexer": "ipython3",
   "version": "3.11.5"
  }
 },
 "nbformat": 4,
 "nbformat_minor": 5
}
